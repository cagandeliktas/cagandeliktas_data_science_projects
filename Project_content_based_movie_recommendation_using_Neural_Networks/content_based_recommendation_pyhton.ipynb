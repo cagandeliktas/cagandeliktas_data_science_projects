{
 "cells": [
  {
   "cell_type": "markdown",
   "id": "73adf0cc",
   "metadata": {},
   "source": [
    "# Content Based Movie Recommendation Project Using Neural Networks"
   ]
  },
  {
   "cell_type": "code",
   "execution_count": 1,
   "id": "2a9aeceb",
   "metadata": {},
   "outputs": [],
   "source": [
    "#!pip install pandas"
   ]
  },
  {
   "cell_type": "code",
   "execution_count": 2,
   "id": "b47d3839",
   "metadata": {},
   "outputs": [],
   "source": [
    "#!pip install sklearn"
   ]
  },
  {
   "cell_type": "code",
   "execution_count": 1,
   "id": "771d6d58",
   "metadata": {},
   "outputs": [],
   "source": [
    "import numpy as np\n",
    "import numpy.ma as ma\n",
    "import pandas as pd\n",
    "import tensorflow as tf\n",
    "from tensorflow import keras\n",
    "from sklearn.preprocessing import StandardScaler, MinMaxScaler\n",
    "from sklearn.model_selection import train_test_split\n",
    "\n",
    "import pandas as pd\n",
    "pd.set_option('display.max_rows', 500)\n",
    "pd.set_option('display.max_columns', 500)\n",
    "pd.set_option('display.width', 1000)"
   ]
  },
  {
   "cell_type": "markdown",
   "id": "38f7afe9",
   "metadata": {},
   "source": [
    "### upload the movies dataset"
   ]
  },
  {
   "cell_type": "code",
   "execution_count": 2,
   "id": "6d236b03",
   "metadata": {},
   "outputs": [
    {
     "data": {
      "text/html": [
       "<div>\n",
       "<style scoped>\n",
       "    .dataframe tbody tr th:only-of-type {\n",
       "        vertical-align: middle;\n",
       "    }\n",
       "\n",
       "    .dataframe tbody tr th {\n",
       "        vertical-align: top;\n",
       "    }\n",
       "\n",
       "    .dataframe thead th {\n",
       "        text-align: right;\n",
       "    }\n",
       "</style>\n",
       "<table border=\"1\" class=\"dataframe\">\n",
       "  <thead>\n",
       "    <tr style=\"text-align: right;\">\n",
       "      <th></th>\n",
       "      <th>movieId</th>\n",
       "      <th>title</th>\n",
       "      <th>genres</th>\n",
       "    </tr>\n",
       "  </thead>\n",
       "  <tbody>\n",
       "    <tr>\n",
       "      <th>0</th>\n",
       "      <td>1</td>\n",
       "      <td>Toy Story (1995)</td>\n",
       "      <td>Adventure|Animation|Children|Comedy|Fantasy</td>\n",
       "    </tr>\n",
       "    <tr>\n",
       "      <th>1</th>\n",
       "      <td>2</td>\n",
       "      <td>Jumanji (1995)</td>\n",
       "      <td>Adventure|Children|Fantasy</td>\n",
       "    </tr>\n",
       "    <tr>\n",
       "      <th>2</th>\n",
       "      <td>3</td>\n",
       "      <td>Grumpier Old Men (1995)</td>\n",
       "      <td>Comedy|Romance</td>\n",
       "    </tr>\n",
       "    <tr>\n",
       "      <th>3</th>\n",
       "      <td>4</td>\n",
       "      <td>Waiting to Exhale (1995)</td>\n",
       "      <td>Comedy|Drama|Romance</td>\n",
       "    </tr>\n",
       "    <tr>\n",
       "      <th>4</th>\n",
       "      <td>5</td>\n",
       "      <td>Father of the Bride Part II (1995)</td>\n",
       "      <td>Comedy</td>\n",
       "    </tr>\n",
       "  </tbody>\n",
       "</table>\n",
       "</div>"
      ],
      "text/plain": [
       "   movieId                               title                                       genres\n",
       "0        1                    Toy Story (1995)  Adventure|Animation|Children|Comedy|Fantasy\n",
       "1        2                      Jumanji (1995)                   Adventure|Children|Fantasy\n",
       "2        3             Grumpier Old Men (1995)                               Comedy|Romance\n",
       "3        4            Waiting to Exhale (1995)                         Comedy|Drama|Romance\n",
       "4        5  Father of the Bride Part II (1995)                                       Comedy"
      ]
     },
     "execution_count": 2,
     "metadata": {},
     "output_type": "execute_result"
    }
   ],
   "source": [
    "movie = pd.read_csv(\"C:/Users/Cagan Deliktas/Desktop/Machine-Learning-Spec/C3/W2/content_based_filtering_lab/Files/home/jovyan/work/data/movies.csv\")\n",
    "movie.head()"
   ]
  },
  {
   "cell_type": "code",
   "execution_count": 3,
   "id": "ce39c69f",
   "metadata": {},
   "outputs": [
    {
     "data": {
      "text/plain": [
       "(9742, 3)"
      ]
     },
     "execution_count": 3,
     "metadata": {},
     "output_type": "execute_result"
    }
   ],
   "source": [
    "movie.shape"
   ]
  },
  {
   "cell_type": "markdown",
   "id": "62ab3a27",
   "metadata": {},
   "source": [
    "### create a new column named \"year\"."
   ]
  },
  {
   "cell_type": "code",
   "execution_count": 5,
   "id": "dd979f39",
   "metadata": {},
   "outputs": [],
   "source": [
    "def splitt_year(value):\n",
    "    value_list = value.split(\" \")\n",
    "    year = value_list[-1]\n",
    "    year = year[1:-1]\n",
    "    \n",
    "    try:\n",
    "        year = int(year)\n",
    "    except:\n",
    "        year = 0\n",
    "    \n",
    "    return year"
   ]
  },
  {
   "cell_type": "code",
   "execution_count": 6,
   "id": "7530571b",
   "metadata": {},
   "outputs": [
    {
     "data": {
      "text/html": [
       "<div>\n",
       "<style scoped>\n",
       "    .dataframe tbody tr th:only-of-type {\n",
       "        vertical-align: middle;\n",
       "    }\n",
       "\n",
       "    .dataframe tbody tr th {\n",
       "        vertical-align: top;\n",
       "    }\n",
       "\n",
       "    .dataframe thead th {\n",
       "        text-align: right;\n",
       "    }\n",
       "</style>\n",
       "<table border=\"1\" class=\"dataframe\">\n",
       "  <thead>\n",
       "    <tr style=\"text-align: right;\">\n",
       "      <th></th>\n",
       "      <th>movieId</th>\n",
       "      <th>title</th>\n",
       "      <th>genres</th>\n",
       "      <th>year</th>\n",
       "    </tr>\n",
       "  </thead>\n",
       "  <tbody>\n",
       "    <tr>\n",
       "      <th>0</th>\n",
       "      <td>1</td>\n",
       "      <td>Toy Story (1995)</td>\n",
       "      <td>Adventure|Animation|Children|Comedy|Fantasy</td>\n",
       "      <td>1995</td>\n",
       "    </tr>\n",
       "    <tr>\n",
       "      <th>1</th>\n",
       "      <td>2</td>\n",
       "      <td>Jumanji (1995)</td>\n",
       "      <td>Adventure|Children|Fantasy</td>\n",
       "      <td>1995</td>\n",
       "    </tr>\n",
       "    <tr>\n",
       "      <th>2</th>\n",
       "      <td>3</td>\n",
       "      <td>Grumpier Old Men (1995)</td>\n",
       "      <td>Comedy|Romance</td>\n",
       "      <td>1995</td>\n",
       "    </tr>\n",
       "    <tr>\n",
       "      <th>3</th>\n",
       "      <td>4</td>\n",
       "      <td>Waiting to Exhale (1995)</td>\n",
       "      <td>Comedy|Drama|Romance</td>\n",
       "      <td>1995</td>\n",
       "    </tr>\n",
       "    <tr>\n",
       "      <th>4</th>\n",
       "      <td>5</td>\n",
       "      <td>Father of the Bride Part II (1995)</td>\n",
       "      <td>Comedy</td>\n",
       "      <td>1995</td>\n",
       "    </tr>\n",
       "  </tbody>\n",
       "</table>\n",
       "</div>"
      ],
      "text/plain": [
       "   movieId                               title                                       genres  year\n",
       "0        1                    Toy Story (1995)  Adventure|Animation|Children|Comedy|Fantasy  1995\n",
       "1        2                      Jumanji (1995)                   Adventure|Children|Fantasy  1995\n",
       "2        3             Grumpier Old Men (1995)                               Comedy|Romance  1995\n",
       "3        4            Waiting to Exhale (1995)                         Comedy|Drama|Romance  1995\n",
       "4        5  Father of the Bride Part II (1995)                                       Comedy  1995"
      ]
     },
     "execution_count": 6,
     "metadata": {},
     "output_type": "execute_result"
    }
   ],
   "source": [
    "movie[\"year\"] = movie[\"title\"].apply(splitt_year)\n",
    "movie.head()"
   ]
  },
  {
   "cell_type": "code",
   "execution_count": 7,
   "id": "1dcba664",
   "metadata": {},
   "outputs": [],
   "source": [
    "movie = movie.loc[movie[\"year\"] != 0, :]"
   ]
  },
  {
   "cell_type": "code",
   "execution_count": 8,
   "id": "feef99bc",
   "metadata": {},
   "outputs": [
    {
     "data": {
      "text/plain": [
       "(9718, 4)"
      ]
     },
     "execution_count": 8,
     "metadata": {},
     "output_type": "execute_result"
    }
   ],
   "source": [
    "movie.shape"
   ]
  },
  {
   "cell_type": "code",
   "execution_count": 9,
   "id": "9c532988",
   "metadata": {},
   "outputs": [
    {
     "data": {
      "text/plain": [
       "movieId    0\n",
       "title      0\n",
       "genres     0\n",
       "year       0\n",
       "dtype: int64"
      ]
     },
     "execution_count": 9,
     "metadata": {},
     "output_type": "execute_result"
    }
   ],
   "source": [
    "movie.isnull().sum()"
   ]
  },
  {
   "cell_type": "code",
   "execution_count": 10,
   "id": "71d2b135",
   "metadata": {},
   "outputs": [
    {
     "data": {
      "text/plain": [
       "movieId    9718\n",
       "title      9713\n",
       "genres      951\n",
       "year        106\n",
       "dtype: int64"
      ]
     },
     "execution_count": 10,
     "metadata": {},
     "output_type": "execute_result"
    }
   ],
   "source": [
    "movie.nunique()"
   ]
  },
  {
   "cell_type": "code",
   "execution_count": 11,
   "id": "9f2e9141",
   "metadata": {},
   "outputs": [
    {
     "data": {
      "text/html": [
       "<div>\n",
       "<style scoped>\n",
       "    .dataframe tbody tr th:only-of-type {\n",
       "        vertical-align: middle;\n",
       "    }\n",
       "\n",
       "    .dataframe tbody tr th {\n",
       "        vertical-align: top;\n",
       "    }\n",
       "\n",
       "    .dataframe thead th {\n",
       "        text-align: right;\n",
       "    }\n",
       "</style>\n",
       "<table border=\"1\" class=\"dataframe\">\n",
       "  <thead>\n",
       "    <tr style=\"text-align: right;\">\n",
       "      <th></th>\n",
       "      <th>userId</th>\n",
       "      <th>movieId</th>\n",
       "      <th>rating</th>\n",
       "      <th>timestamp</th>\n",
       "    </tr>\n",
       "  </thead>\n",
       "  <tbody>\n",
       "    <tr>\n",
       "      <th>0</th>\n",
       "      <td>1</td>\n",
       "      <td>1</td>\n",
       "      <td>4.0</td>\n",
       "      <td>964982703</td>\n",
       "    </tr>\n",
       "    <tr>\n",
       "      <th>1</th>\n",
       "      <td>1</td>\n",
       "      <td>3</td>\n",
       "      <td>4.0</td>\n",
       "      <td>964981247</td>\n",
       "    </tr>\n",
       "    <tr>\n",
       "      <th>2</th>\n",
       "      <td>1</td>\n",
       "      <td>6</td>\n",
       "      <td>4.0</td>\n",
       "      <td>964982224</td>\n",
       "    </tr>\n",
       "    <tr>\n",
       "      <th>3</th>\n",
       "      <td>1</td>\n",
       "      <td>47</td>\n",
       "      <td>5.0</td>\n",
       "      <td>964983815</td>\n",
       "    </tr>\n",
       "    <tr>\n",
       "      <th>4</th>\n",
       "      <td>1</td>\n",
       "      <td>50</td>\n",
       "      <td>5.0</td>\n",
       "      <td>964982931</td>\n",
       "    </tr>\n",
       "  </tbody>\n",
       "</table>\n",
       "</div>"
      ],
      "text/plain": [
       "   userId  movieId  rating  timestamp\n",
       "0       1        1     4.0  964982703\n",
       "1       1        3     4.0  964981247\n",
       "2       1        6     4.0  964982224\n",
       "3       1       47     5.0  964983815\n",
       "4       1       50     5.0  964982931"
      ]
     },
     "execution_count": 11,
     "metadata": {},
     "output_type": "execute_result"
    }
   ],
   "source": [
    "rating = pd.read_csv(\"C:/Users/Cagan Deliktas/Desktop/Machine-Learning-Spec/C3/W2/content_based_filtering_lab/Files/home/jovyan/work/data/ratings.csv\")\n",
    "rating.head()"
   ]
  },
  {
   "cell_type": "code",
   "execution_count": 12,
   "id": "b740613c",
   "metadata": {},
   "outputs": [
    {
     "data": {
      "text/plain": [
       "userId         610\n",
       "movieId       9724\n",
       "rating          10\n",
       "timestamp    85043\n",
       "dtype: int64"
      ]
     },
     "execution_count": 12,
     "metadata": {},
     "output_type": "execute_result"
    }
   ],
   "source": [
    "rating.nunique()"
   ]
  },
  {
   "cell_type": "code",
   "execution_count": 13,
   "id": "b5fb3c18",
   "metadata": {},
   "outputs": [
    {
     "data": {
      "text/plain": [
       "(100836, 4)"
      ]
     },
     "execution_count": 13,
     "metadata": {},
     "output_type": "execute_result"
    }
   ],
   "source": [
    "rating.shape"
   ]
  },
  {
   "cell_type": "code",
   "execution_count": 14,
   "id": "af616cac",
   "metadata": {},
   "outputs": [
    {
     "data": {
      "text/plain": [
       "userId       0\n",
       "movieId      0\n",
       "rating       0\n",
       "timestamp    0\n",
       "dtype: int64"
      ]
     },
     "execution_count": 14,
     "metadata": {},
     "output_type": "execute_result"
    }
   ],
   "source": [
    "rating.isnull().sum()"
   ]
  },
  {
   "cell_type": "markdown",
   "id": "ab82a9ea",
   "metadata": {},
   "source": [
    "### combining 2 datasets"
   ]
  },
  {
   "cell_type": "code",
   "execution_count": 15,
   "id": "2f6e54c3",
   "metadata": {},
   "outputs": [
    {
     "data": {
      "text/html": [
       "<div>\n",
       "<style scoped>\n",
       "    .dataframe tbody tr th:only-of-type {\n",
       "        vertical-align: middle;\n",
       "    }\n",
       "\n",
       "    .dataframe tbody tr th {\n",
       "        vertical-align: top;\n",
       "    }\n",
       "\n",
       "    .dataframe thead th {\n",
       "        text-align: right;\n",
       "    }\n",
       "</style>\n",
       "<table border=\"1\" class=\"dataframe\">\n",
       "  <thead>\n",
       "    <tr style=\"text-align: right;\">\n",
       "      <th></th>\n",
       "      <th>movieId</th>\n",
       "      <th>title</th>\n",
       "      <th>genres</th>\n",
       "      <th>year</th>\n",
       "      <th>userId</th>\n",
       "      <th>rating</th>\n",
       "      <th>timestamp</th>\n",
       "    </tr>\n",
       "  </thead>\n",
       "  <tbody>\n",
       "    <tr>\n",
       "      <th>0</th>\n",
       "      <td>1</td>\n",
       "      <td>Toy Story (1995)</td>\n",
       "      <td>Adventure|Animation|Children|Comedy|Fantasy</td>\n",
       "      <td>1995</td>\n",
       "      <td>1</td>\n",
       "      <td>4.0</td>\n",
       "      <td>964982703</td>\n",
       "    </tr>\n",
       "    <tr>\n",
       "      <th>1</th>\n",
       "      <td>1</td>\n",
       "      <td>Toy Story (1995)</td>\n",
       "      <td>Adventure|Animation|Children|Comedy|Fantasy</td>\n",
       "      <td>1995</td>\n",
       "      <td>5</td>\n",
       "      <td>4.0</td>\n",
       "      <td>847434962</td>\n",
       "    </tr>\n",
       "    <tr>\n",
       "      <th>2</th>\n",
       "      <td>1</td>\n",
       "      <td>Toy Story (1995)</td>\n",
       "      <td>Adventure|Animation|Children|Comedy|Fantasy</td>\n",
       "      <td>1995</td>\n",
       "      <td>7</td>\n",
       "      <td>4.5</td>\n",
       "      <td>1106635946</td>\n",
       "    </tr>\n",
       "    <tr>\n",
       "      <th>3</th>\n",
       "      <td>1</td>\n",
       "      <td>Toy Story (1995)</td>\n",
       "      <td>Adventure|Animation|Children|Comedy|Fantasy</td>\n",
       "      <td>1995</td>\n",
       "      <td>15</td>\n",
       "      <td>2.5</td>\n",
       "      <td>1510577970</td>\n",
       "    </tr>\n",
       "    <tr>\n",
       "      <th>4</th>\n",
       "      <td>1</td>\n",
       "      <td>Toy Story (1995)</td>\n",
       "      <td>Adventure|Animation|Children|Comedy|Fantasy</td>\n",
       "      <td>1995</td>\n",
       "      <td>17</td>\n",
       "      <td>4.5</td>\n",
       "      <td>1305696483</td>\n",
       "    </tr>\n",
       "  </tbody>\n",
       "</table>\n",
       "</div>"
      ],
      "text/plain": [
       "   movieId             title                                       genres  year  userId  rating   timestamp\n",
       "0        1  Toy Story (1995)  Adventure|Animation|Children|Comedy|Fantasy  1995       1     4.0   964982703\n",
       "1        1  Toy Story (1995)  Adventure|Animation|Children|Comedy|Fantasy  1995       5     4.0   847434962\n",
       "2        1  Toy Story (1995)  Adventure|Animation|Children|Comedy|Fantasy  1995       7     4.5  1106635946\n",
       "3        1  Toy Story (1995)  Adventure|Animation|Children|Comedy|Fantasy  1995      15     2.5  1510577970\n",
       "4        1  Toy Story (1995)  Adventure|Animation|Children|Comedy|Fantasy  1995      17     4.5  1305696483"
      ]
     },
     "execution_count": 15,
     "metadata": {},
     "output_type": "execute_result"
    }
   ],
   "source": [
    "df = movie.merge(rating, how=\"inner\", on=\"movieId\")\n",
    "df.reset_index(inplace=True, drop=True)\n",
    "df.head()"
   ]
  },
  {
   "cell_type": "code",
   "execution_count": 16,
   "id": "a291e97b",
   "metadata": {},
   "outputs": [],
   "source": [
    "df.sort_values(by=[\"movieId\",\"userId\"], ascending = True, inplace = True)"
   ]
  },
  {
   "cell_type": "code",
   "execution_count": 17,
   "id": "96292e58",
   "metadata": {},
   "outputs": [
    {
     "data": {
      "text/plain": [
       "9700"
      ]
     },
     "execution_count": 17,
     "metadata": {},
     "output_type": "execute_result"
    }
   ],
   "source": [
    "df[\"movieId\"].nunique()"
   ]
  },
  {
   "cell_type": "code",
   "execution_count": 18,
   "id": "ce6dffc7",
   "metadata": {},
   "outputs": [
    {
     "data": {
      "text/plain": [
       "610"
      ]
     },
     "execution_count": 18,
     "metadata": {},
     "output_type": "execute_result"
    }
   ],
   "source": [
    "df[\"userId\"].nunique()"
   ]
  },
  {
   "cell_type": "code",
   "execution_count": 19,
   "id": "617299cb",
   "metadata": {},
   "outputs": [
    {
     "data": {
      "text/plain": [
       "movieId      0\n",
       "title        0\n",
       "genres       0\n",
       "year         0\n",
       "userId       0\n",
       "rating       0\n",
       "timestamp    0\n",
       "dtype: int64"
      ]
     },
     "execution_count": 19,
     "metadata": {},
     "output_type": "execute_result"
    }
   ],
   "source": [
    "df.isnull().sum()"
   ]
  },
  {
   "cell_type": "markdown",
   "id": "9726275d",
   "metadata": {},
   "source": [
    "### select movies that are released after the year 2000."
   ]
  },
  {
   "cell_type": "code",
   "execution_count": 20,
   "id": "a8398e09",
   "metadata": {},
   "outputs": [],
   "source": [
    "df = df.loc[df[\"year\"] >= 2000, :]"
   ]
  },
  {
   "cell_type": "code",
   "execution_count": 21,
   "id": "8f4cf675",
   "metadata": {},
   "outputs": [
    {
     "data": {
      "text/plain": [
       "movieId       4771\n",
       "title         4768\n",
       "genres         684\n",
       "year            19\n",
       "userId         443\n",
       "rating          10\n",
       "timestamp    38496\n",
       "dtype: int64"
      ]
     },
     "execution_count": 21,
     "metadata": {},
     "output_type": "execute_result"
    }
   ],
   "source": [
    "df.nunique()"
   ]
  },
  {
   "cell_type": "code",
   "execution_count": 22,
   "id": "9c8e7535",
   "metadata": {},
   "outputs": [
    {
     "data": {
      "text/plain": [
       "(39244, 7)"
      ]
     },
     "execution_count": 22,
     "metadata": {},
     "output_type": "execute_result"
    }
   ],
   "source": [
    "df.shape"
   ]
  },
  {
   "cell_type": "markdown",
   "id": "63c2cf5a",
   "metadata": {},
   "source": [
    "### select the movies that are rated by more than 20 users."
   ]
  },
  {
   "cell_type": "code",
   "execution_count": 23,
   "id": "b31b9429",
   "metadata": {},
   "outputs": [],
   "source": [
    "false_true = (df.groupby([\"movieId\"]).agg({\"userId\":\"count\"}) > 20).reset_index()"
   ]
  },
  {
   "cell_type": "code",
   "execution_count": 25,
   "id": "eda73c29",
   "metadata": {},
   "outputs": [],
   "source": [
    "movie_ids_greater = false_true.loc[false_true[\"userId\"] == True, [\"movieId\"]]"
   ]
  },
  {
   "cell_type": "code",
   "execution_count": 26,
   "id": "6e197670",
   "metadata": {},
   "outputs": [],
   "source": [
    "movie_ids_greater = movie_ids_greater.values"
   ]
  },
  {
   "cell_type": "code",
   "execution_count": 27,
   "id": "0edcd5c0",
   "metadata": {},
   "outputs": [],
   "source": [
    "movie_ids_greater = movie_ids_greater.flatten()"
   ]
  },
  {
   "cell_type": "code",
   "execution_count": 28,
   "id": "e28d3c2b",
   "metadata": {},
   "outputs": [
    {
     "data": {
      "text/plain": [
       "(482,)"
      ]
     },
     "execution_count": 28,
     "metadata": {},
     "output_type": "execute_result"
    }
   ],
   "source": [
    "movie_ids_greater.shape"
   ]
  },
  {
   "cell_type": "code",
   "execution_count": 29,
   "id": "8c620ce0",
   "metadata": {},
   "outputs": [],
   "source": [
    "df = df.loc[df[\"movieId\"].isin(movie_ids_greater),:]"
   ]
  },
  {
   "cell_type": "code",
   "execution_count": 30,
   "id": "0915ece4",
   "metadata": {},
   "outputs": [
    {
     "data": {
      "text/plain": [
       "movieId        482\n",
       "title          482\n",
       "genres         215\n",
       "year            18\n",
       "userId         442\n",
       "rating          10\n",
       "timestamp    22489\n",
       "dtype: int64"
      ]
     },
     "execution_count": 30,
     "metadata": {},
     "output_type": "execute_result"
    }
   ],
   "source": [
    "df.nunique()"
   ]
  },
  {
   "cell_type": "code",
   "execution_count": 31,
   "id": "ae2ea7bc",
   "metadata": {},
   "outputs": [],
   "source": [
    "df.sort_values(by=[\"movieId\",\"userId\"], ascending = True, inplace = True)"
   ]
  },
  {
   "cell_type": "markdown",
   "id": "45ffc159",
   "metadata": {},
   "source": [
    "## genre list"
   ]
  },
  {
   "cell_type": "code",
   "execution_count": 33,
   "id": "4aa72595",
   "metadata": {},
   "outputs": [
    {
     "data": {
      "text/html": [
       "<div>\n",
       "<style scoped>\n",
       "    .dataframe tbody tr th:only-of-type {\n",
       "        vertical-align: middle;\n",
       "    }\n",
       "\n",
       "    .dataframe tbody tr th {\n",
       "        vertical-align: top;\n",
       "    }\n",
       "\n",
       "    .dataframe thead th {\n",
       "        text-align: right;\n",
       "    }\n",
       "</style>\n",
       "<table border=\"1\" class=\"dataframe\">\n",
       "  <thead>\n",
       "    <tr style=\"text-align: right;\">\n",
       "      <th></th>\n",
       "      <th>movieId</th>\n",
       "      <th>title</th>\n",
       "      <th>genres</th>\n",
       "      <th>year</th>\n",
       "      <th>userId</th>\n",
       "      <th>rating</th>\n",
       "      <th>timestamp</th>\n",
       "    </tr>\n",
       "  </thead>\n",
       "  <tbody>\n",
       "    <tr>\n",
       "      <th>53190</th>\n",
       "      <td>3273</td>\n",
       "      <td>Scream 3 (2000)</td>\n",
       "      <td>Comedy|Horror|Mystery|Thriller</td>\n",
       "      <td>2000</td>\n",
       "      <td>1</td>\n",
       "      <td>5.0</td>\n",
       "      <td>964983536</td>\n",
       "    </tr>\n",
       "    <tr>\n",
       "      <th>53191</th>\n",
       "      <td>3273</td>\n",
       "      <td>Scream 3 (2000)</td>\n",
       "      <td>Comedy|Horror|Mystery|Thriller</td>\n",
       "      <td>2000</td>\n",
       "      <td>19</td>\n",
       "      <td>2.0</td>\n",
       "      <td>965703084</td>\n",
       "    </tr>\n",
       "    <tr>\n",
       "      <th>53192</th>\n",
       "      <td>3273</td>\n",
       "      <td>Scream 3 (2000)</td>\n",
       "      <td>Comedy|Horror|Mystery|Thriller</td>\n",
       "      <td>2000</td>\n",
       "      <td>45</td>\n",
       "      <td>4.0</td>\n",
       "      <td>1007995150</td>\n",
       "    </tr>\n",
       "    <tr>\n",
       "      <th>53193</th>\n",
       "      <td>3273</td>\n",
       "      <td>Scream 3 (2000)</td>\n",
       "      <td>Comedy|Horror|Mystery|Thriller</td>\n",
       "      <td>2000</td>\n",
       "      <td>64</td>\n",
       "      <td>2.0</td>\n",
       "      <td>1161620569</td>\n",
       "    </tr>\n",
       "    <tr>\n",
       "      <th>53194</th>\n",
       "      <td>3273</td>\n",
       "      <td>Scream 3 (2000)</td>\n",
       "      <td>Comedy|Horror|Mystery|Thriller</td>\n",
       "      <td>2000</td>\n",
       "      <td>68</td>\n",
       "      <td>2.0</td>\n",
       "      <td>1158535390</td>\n",
       "    </tr>\n",
       "  </tbody>\n",
       "</table>\n",
       "</div>"
      ],
      "text/plain": [
       "       movieId            title                          genres  year  userId  rating   timestamp\n",
       "53190     3273  Scream 3 (2000)  Comedy|Horror|Mystery|Thriller  2000       1     5.0   964983536\n",
       "53191     3273  Scream 3 (2000)  Comedy|Horror|Mystery|Thriller  2000      19     2.0   965703084\n",
       "53192     3273  Scream 3 (2000)  Comedy|Horror|Mystery|Thriller  2000      45     4.0  1007995150\n",
       "53193     3273  Scream 3 (2000)  Comedy|Horror|Mystery|Thriller  2000      64     2.0  1161620569\n",
       "53194     3273  Scream 3 (2000)  Comedy|Horror|Mystery|Thriller  2000      68     2.0  1158535390"
      ]
     },
     "execution_count": 33,
     "metadata": {},
     "output_type": "execute_result"
    }
   ],
   "source": [
    "df.head()"
   ]
  },
  {
   "cell_type": "code",
   "execution_count": 34,
   "id": "7ac519bc",
   "metadata": {},
   "outputs": [],
   "source": [
    "movie.reset_index(inplace = True, drop=True)"
   ]
  },
  {
   "cell_type": "code",
   "execution_count": 35,
   "id": "f72d7e45",
   "metadata": {},
   "outputs": [],
   "source": [
    "genre_list = []\n",
    "\n",
    "for i in range(movie.shape[0]):\n",
    "    row_list = movie.loc[i, \"genres\"].split(\"|\")\n",
    "    \n",
    "    for x in row_list:\n",
    "        if x not in genre_list:\n",
    "            genre_list.append(x)"
   ]
  },
  {
   "cell_type": "code",
   "execution_count": 36,
   "id": "d173acc3",
   "metadata": {},
   "outputs": [
    {
     "name": "stdout",
     "output_type": "stream",
     "text": [
      "['Adventure', 'Animation', 'Children', 'Comedy', 'Fantasy', 'Romance', 'Drama', 'Action', 'Crime', 'Thriller', 'Horror', 'Mystery', 'Sci-Fi', 'War', 'Musical', 'Documentary', 'IMAX', 'Western', 'Film-Noir', '(no genres listed)']\n"
     ]
    }
   ],
   "source": [
    "print(genre_list)"
   ]
  },
  {
   "cell_type": "code",
   "execution_count": 37,
   "id": "a1197a74",
   "metadata": {},
   "outputs": [
    {
     "data": {
      "text/plain": [
       "'(no genres listed)'"
      ]
     },
     "execution_count": 37,
     "metadata": {},
     "output_type": "execute_result"
    }
   ],
   "source": [
    "genre_list.pop(len(genre_list)-1)"
   ]
  },
  {
   "cell_type": "code",
   "execution_count": 38,
   "id": "036b38ed",
   "metadata": {},
   "outputs": [
    {
     "name": "stdout",
     "output_type": "stream",
     "text": [
      "['Adventure', 'Animation', 'Children', 'Comedy', 'Fantasy', 'Romance', 'Drama', 'Action', 'Crime', 'Thriller', 'Horror', 'Mystery', 'Sci-Fi', 'War', 'Musical', 'Documentary', 'IMAX', 'Western', 'Film-Noir']\n"
     ]
    }
   ],
   "source": [
    "print(genre_list)"
   ]
  },
  {
   "cell_type": "code",
   "execution_count": 39,
   "id": "c86a65b6",
   "metadata": {},
   "outputs": [
    {
     "data": {
      "text/plain": [
       "19"
      ]
     },
     "execution_count": 39,
     "metadata": {},
     "output_type": "execute_result"
    }
   ],
   "source": [
    "len(genre_list)"
   ]
  },
  {
   "cell_type": "code",
   "execution_count": 40,
   "id": "4988c44d",
   "metadata": {},
   "outputs": [
    {
     "data": {
      "text/plain": [
       "14"
      ]
     },
     "execution_count": 40,
     "metadata": {},
     "output_type": "execute_result"
    }
   ],
   "source": [
    "#\"Action\",\"Adventure\",\"Animation\",\"Children\",\"Comedy\",\"Crime\",\"Documentary\",\"Drama\",\"Fantasy\",\"Horror\",\"Mystery\",\"Romance\",\"Sci-Fi\",\"Thriller\"\n",
    "\n",
    "genre_list = [x for x in genre_list if x in [\"Action\",\"Adventure\",\"Animation\",\"Children\",\"Comedy\",\"Crime\",\"Documentary\",\"Drama\",\"Fantasy\",\"Horror\",\"Mystery\",\"Romance\",\"Sci-Fi\",\"Thriller\"]]\n",
    "len(genre_list)"
   ]
  },
  {
   "cell_type": "markdown",
   "id": "9ca35947",
   "metadata": {},
   "source": [
    "### average ratings column"
   ]
  },
  {
   "cell_type": "code",
   "execution_count": 41,
   "id": "2227fb93",
   "metadata": {
    "scrolled": true
   },
   "outputs": [
    {
     "data": {
      "text/html": [
       "<div>\n",
       "<style scoped>\n",
       "    .dataframe tbody tr th:only-of-type {\n",
       "        vertical-align: middle;\n",
       "    }\n",
       "\n",
       "    .dataframe tbody tr th {\n",
       "        vertical-align: top;\n",
       "    }\n",
       "\n",
       "    .dataframe thead th {\n",
       "        text-align: right;\n",
       "    }\n",
       "</style>\n",
       "<table border=\"1\" class=\"dataframe\">\n",
       "  <thead>\n",
       "    <tr style=\"text-align: right;\">\n",
       "      <th></th>\n",
       "      <th>rating</th>\n",
       "    </tr>\n",
       "    <tr>\n",
       "      <th>movieId</th>\n",
       "      <th></th>\n",
       "    </tr>\n",
       "  </thead>\n",
       "  <tbody>\n",
       "    <tr>\n",
       "      <th>3273</th>\n",
       "      <td>2.672414</td>\n",
       "    </tr>\n",
       "    <tr>\n",
       "      <th>3275</th>\n",
       "      <td>4.220930</td>\n",
       "    </tr>\n",
       "    <tr>\n",
       "      <th>3285</th>\n",
       "      <td>3.062500</td>\n",
       "    </tr>\n",
       "    <tr>\n",
       "      <th>3298</th>\n",
       "      <td>3.714286</td>\n",
       "    </tr>\n",
       "    <tr>\n",
       "      <th>3300</th>\n",
       "      <td>3.564103</td>\n",
       "    </tr>\n",
       "  </tbody>\n",
       "</table>\n",
       "</div>"
      ],
      "text/plain": [
       "           rating\n",
       "movieId          \n",
       "3273     2.672414\n",
       "3275     4.220930\n",
       "3285     3.062500\n",
       "3298     3.714286\n",
       "3300     3.564103"
      ]
     },
     "execution_count": 41,
     "metadata": {},
     "output_type": "execute_result"
    }
   ],
   "source": [
    "average_ratings = df.groupby([\"movieId\"]).agg({\"rating\": np.mean})\n",
    "average_ratings.head()"
   ]
  },
  {
   "cell_type": "code",
   "execution_count": 42,
   "id": "cac06688",
   "metadata": {},
   "outputs": [
    {
     "data": {
      "text/plain": [
       "(482,)"
      ]
     },
     "execution_count": 42,
     "metadata": {},
     "output_type": "execute_result"
    }
   ],
   "source": [
    "np.array(average_ratings.rating).shape"
   ]
  },
  {
   "cell_type": "markdown",
   "id": "25fbba00",
   "metadata": {},
   "source": [
    "### year list"
   ]
  },
  {
   "cell_type": "code",
   "execution_count": 43,
   "id": "44952fe5",
   "metadata": {},
   "outputs": [],
   "source": [
    "year_list = df.groupby([\"movieId\"]).agg({\"year\":np.mean}).values.flatten()"
   ]
  },
  {
   "cell_type": "code",
   "execution_count": 44,
   "id": "82bacb67",
   "metadata": {},
   "outputs": [],
   "source": [
    "#df.loc[df[\"movieId\"] == 193609,:]"
   ]
  },
  {
   "cell_type": "markdown",
   "id": "b75c9dd2",
   "metadata": {},
   "source": [
    "### 1-0 genre matrix"
   ]
  },
  {
   "cell_type": "code",
   "execution_count": 45,
   "id": "04d26575",
   "metadata": {},
   "outputs": [
    {
     "data": {
      "text/plain": [
       "['Comedy', 'Horror', 'Mystery', 'Thriller']"
      ]
     },
     "execution_count": 45,
     "metadata": {},
     "output_type": "execute_result"
    }
   ],
   "source": [
    "df.iloc[0,2].split(\"|\")"
   ]
  },
  {
   "cell_type": "code",
   "execution_count": 46,
   "id": "ce9e3233",
   "metadata": {},
   "outputs": [
    {
     "data": {
      "text/html": [
       "<div>\n",
       "<style scoped>\n",
       "    .dataframe tbody tr th:only-of-type {\n",
       "        vertical-align: middle;\n",
       "    }\n",
       "\n",
       "    .dataframe tbody tr th {\n",
       "        vertical-align: top;\n",
       "    }\n",
       "\n",
       "    .dataframe thead th {\n",
       "        text-align: right;\n",
       "    }\n",
       "</style>\n",
       "<table border=\"1\" class=\"dataframe\">\n",
       "  <thead>\n",
       "    <tr style=\"text-align: right;\">\n",
       "      <th></th>\n",
       "      <th>movieId</th>\n",
       "      <th>title</th>\n",
       "      <th>genres</th>\n",
       "      <th>year</th>\n",
       "      <th>userId</th>\n",
       "      <th>rating</th>\n",
       "      <th>timestamp</th>\n",
       "    </tr>\n",
       "  </thead>\n",
       "  <tbody>\n",
       "    <tr>\n",
       "      <th>53190</th>\n",
       "      <td>3273</td>\n",
       "      <td>Scream 3 (2000)</td>\n",
       "      <td>Comedy|Horror|Mystery|Thriller</td>\n",
       "      <td>2000</td>\n",
       "      <td>1</td>\n",
       "      <td>5.0</td>\n",
       "      <td>964983536</td>\n",
       "    </tr>\n",
       "    <tr>\n",
       "      <th>53191</th>\n",
       "      <td>3273</td>\n",
       "      <td>Scream 3 (2000)</td>\n",
       "      <td>Comedy|Horror|Mystery|Thriller</td>\n",
       "      <td>2000</td>\n",
       "      <td>19</td>\n",
       "      <td>2.0</td>\n",
       "      <td>965703084</td>\n",
       "    </tr>\n",
       "    <tr>\n",
       "      <th>53192</th>\n",
       "      <td>3273</td>\n",
       "      <td>Scream 3 (2000)</td>\n",
       "      <td>Comedy|Horror|Mystery|Thriller</td>\n",
       "      <td>2000</td>\n",
       "      <td>45</td>\n",
       "      <td>4.0</td>\n",
       "      <td>1007995150</td>\n",
       "    </tr>\n",
       "    <tr>\n",
       "      <th>53193</th>\n",
       "      <td>3273</td>\n",
       "      <td>Scream 3 (2000)</td>\n",
       "      <td>Comedy|Horror|Mystery|Thriller</td>\n",
       "      <td>2000</td>\n",
       "      <td>64</td>\n",
       "      <td>2.0</td>\n",
       "      <td>1161620569</td>\n",
       "    </tr>\n",
       "    <tr>\n",
       "      <th>53194</th>\n",
       "      <td>3273</td>\n",
       "      <td>Scream 3 (2000)</td>\n",
       "      <td>Comedy|Horror|Mystery|Thriller</td>\n",
       "      <td>2000</td>\n",
       "      <td>68</td>\n",
       "      <td>2.0</td>\n",
       "      <td>1158535390</td>\n",
       "    </tr>\n",
       "  </tbody>\n",
       "</table>\n",
       "</div>"
      ],
      "text/plain": [
       "       movieId            title                          genres  year  userId  rating   timestamp\n",
       "53190     3273  Scream 3 (2000)  Comedy|Horror|Mystery|Thriller  2000       1     5.0   964983536\n",
       "53191     3273  Scream 3 (2000)  Comedy|Horror|Mystery|Thriller  2000      19     2.0   965703084\n",
       "53192     3273  Scream 3 (2000)  Comedy|Horror|Mystery|Thriller  2000      45     4.0  1007995150\n",
       "53193     3273  Scream 3 (2000)  Comedy|Horror|Mystery|Thriller  2000      64     2.0  1161620569\n",
       "53194     3273  Scream 3 (2000)  Comedy|Horror|Mystery|Thriller  2000      68     2.0  1158535390"
      ]
     },
     "execution_count": 46,
     "metadata": {},
     "output_type": "execute_result"
    }
   ],
   "source": [
    "df.head()"
   ]
  },
  {
   "cell_type": "code",
   "execution_count": 47,
   "id": "acdaf7bb",
   "metadata": {},
   "outputs": [],
   "source": [
    "movie_genre_dict = {}\n",
    "movie_id_listt = []\n",
    "\n",
    "for i in range(df.shape[0]):\n",
    "    \n",
    "    \n",
    "    if df.iloc[i,0] not in movie_id_listt:\n",
    "        \n",
    "        movie_id_listt.append(df.iloc[i,0])\n",
    "        \n",
    "        row_list = df.iloc[i, 2].split(\"|\")\n",
    "        binary_genre = []\n",
    "        \n",
    "        for x in genre_list: \n",
    "            if x in row_list:\n",
    "                binary_genre.append(1)\n",
    "                \n",
    "            else: \n",
    "                binary_genre.append(0)\n",
    "        \n",
    "        movie_genre_dict[df.iloc[i,0]] = binary_genre"
   ]
  },
  {
   "cell_type": "code",
   "execution_count": 48,
   "id": "798b945d",
   "metadata": {},
   "outputs": [
    {
     "data": {
      "text/plain": [
       "482"
      ]
     },
     "execution_count": 48,
     "metadata": {},
     "output_type": "execute_result"
    }
   ],
   "source": [
    "len(movie_genre_dict)"
   ]
  },
  {
   "cell_type": "markdown",
   "id": "d7a64daf",
   "metadata": {},
   "source": [
    "### converting movie_genre_dict into 2d list"
   ]
  },
  {
   "cell_type": "code",
   "execution_count": 49,
   "id": "2f0b627c",
   "metadata": {},
   "outputs": [],
   "source": [
    "two_d_bin_list = []\n",
    "for key in movie_genre_dict.keys():\n",
    "    two_d_bin_list.append(movie_genre_dict[key])\n",
    "\n",
    "two_d_bin_list = np.array(two_d_bin_list)\n",
    "# two_d_bin_list[0] = [1, 1, 1, 1, 1, 0, 0, 0, 0, 0, 0, 0, 0, 0, 0, 0, 0, 0, 0]"
   ]
  },
  {
   "cell_type": "code",
   "execution_count": 50,
   "id": "8b1d0fa0",
   "metadata": {},
   "outputs": [
    {
     "data": {
      "text/plain": [
       "(482, 14)"
      ]
     },
     "execution_count": 50,
     "metadata": {},
     "output_type": "execute_result"
    }
   ],
   "source": [
    "two_d_bin_list.shape"
   ]
  },
  {
   "cell_type": "markdown",
   "id": "d5b7d2a5",
   "metadata": {},
   "source": [
    "### item train df"
   ]
  },
  {
   "cell_type": "code",
   "execution_count": 51,
   "id": "a67e1138",
   "metadata": {},
   "outputs": [],
   "source": [
    "item_train = pd.DataFrame({\"movieId\": df.movieId.unique(),\n",
    "              \"year\": year_list,\n",
    "              \"ave_rating\": np.array(average_ratings.rating)})"
   ]
  },
  {
   "cell_type": "code",
   "execution_count": 52,
   "id": "ada3103e",
   "metadata": {},
   "outputs": [],
   "source": [
    "item_train['ave_rating'] = item_train['ave_rating'].apply(lambda x: float(\"{:.1f}\".format(x)))"
   ]
  },
  {
   "cell_type": "code",
   "execution_count": 53,
   "id": "3055abed",
   "metadata": {},
   "outputs": [],
   "source": [
    "for i, col in enumerate(genre_list):\n",
    "    item_train[col] = two_d_bin_list[:,i]"
   ]
  },
  {
   "cell_type": "code",
   "execution_count": 54,
   "id": "e84c2e36",
   "metadata": {},
   "outputs": [],
   "source": [
    "item_train_columns = item_train.columns"
   ]
  },
  {
   "cell_type": "code",
   "execution_count": 55,
   "id": "374e49a6",
   "metadata": {},
   "outputs": [
    {
     "data": {
      "text/html": [
       "<div>\n",
       "<style scoped>\n",
       "    .dataframe tbody tr th:only-of-type {\n",
       "        vertical-align: middle;\n",
       "    }\n",
       "\n",
       "    .dataframe tbody tr th {\n",
       "        vertical-align: top;\n",
       "    }\n",
       "\n",
       "    .dataframe thead th {\n",
       "        text-align: right;\n",
       "    }\n",
       "</style>\n",
       "<table border=\"1\" class=\"dataframe\">\n",
       "  <thead>\n",
       "    <tr style=\"text-align: right;\">\n",
       "      <th></th>\n",
       "      <th>movieId</th>\n",
       "      <th>year</th>\n",
       "      <th>ave_rating</th>\n",
       "      <th>Adventure</th>\n",
       "      <th>Animation</th>\n",
       "      <th>Children</th>\n",
       "      <th>Comedy</th>\n",
       "      <th>Fantasy</th>\n",
       "      <th>Romance</th>\n",
       "      <th>Drama</th>\n",
       "      <th>Action</th>\n",
       "      <th>Crime</th>\n",
       "      <th>Thriller</th>\n",
       "      <th>Horror</th>\n",
       "      <th>Mystery</th>\n",
       "      <th>Sci-Fi</th>\n",
       "      <th>Documentary</th>\n",
       "    </tr>\n",
       "  </thead>\n",
       "  <tbody>\n",
       "    <tr>\n",
       "      <th>0</th>\n",
       "      <td>3273</td>\n",
       "      <td>2000.0</td>\n",
       "      <td>2.7</td>\n",
       "      <td>0</td>\n",
       "      <td>0</td>\n",
       "      <td>0</td>\n",
       "      <td>1</td>\n",
       "      <td>0</td>\n",
       "      <td>0</td>\n",
       "      <td>0</td>\n",
       "      <td>0</td>\n",
       "      <td>0</td>\n",
       "      <td>1</td>\n",
       "      <td>1</td>\n",
       "      <td>1</td>\n",
       "      <td>0</td>\n",
       "      <td>0</td>\n",
       "    </tr>\n",
       "    <tr>\n",
       "      <th>1</th>\n",
       "      <td>3275</td>\n",
       "      <td>2000.0</td>\n",
       "      <td>4.2</td>\n",
       "      <td>0</td>\n",
       "      <td>0</td>\n",
       "      <td>0</td>\n",
       "      <td>0</td>\n",
       "      <td>0</td>\n",
       "      <td>0</td>\n",
       "      <td>1</td>\n",
       "      <td>1</td>\n",
       "      <td>1</td>\n",
       "      <td>1</td>\n",
       "      <td>0</td>\n",
       "      <td>0</td>\n",
       "      <td>0</td>\n",
       "      <td>0</td>\n",
       "    </tr>\n",
       "    <tr>\n",
       "      <th>2</th>\n",
       "      <td>3285</td>\n",
       "      <td>2000.0</td>\n",
       "      <td>3.1</td>\n",
       "      <td>1</td>\n",
       "      <td>0</td>\n",
       "      <td>0</td>\n",
       "      <td>0</td>\n",
       "      <td>0</td>\n",
       "      <td>0</td>\n",
       "      <td>1</td>\n",
       "      <td>0</td>\n",
       "      <td>0</td>\n",
       "      <td>0</td>\n",
       "      <td>0</td>\n",
       "      <td>0</td>\n",
       "      <td>0</td>\n",
       "      <td>0</td>\n",
       "    </tr>\n",
       "    <tr>\n",
       "      <th>3</th>\n",
       "      <td>3298</td>\n",
       "      <td>2000.0</td>\n",
       "      <td>3.7</td>\n",
       "      <td>0</td>\n",
       "      <td>0</td>\n",
       "      <td>0</td>\n",
       "      <td>0</td>\n",
       "      <td>0</td>\n",
       "      <td>0</td>\n",
       "      <td>1</td>\n",
       "      <td>0</td>\n",
       "      <td>1</td>\n",
       "      <td>1</td>\n",
       "      <td>0</td>\n",
       "      <td>0</td>\n",
       "      <td>0</td>\n",
       "      <td>0</td>\n",
       "    </tr>\n",
       "    <tr>\n",
       "      <th>4</th>\n",
       "      <td>3300</td>\n",
       "      <td>2000.0</td>\n",
       "      <td>3.6</td>\n",
       "      <td>0</td>\n",
       "      <td>0</td>\n",
       "      <td>0</td>\n",
       "      <td>0</td>\n",
       "      <td>0</td>\n",
       "      <td>0</td>\n",
       "      <td>0</td>\n",
       "      <td>0</td>\n",
       "      <td>0</td>\n",
       "      <td>1</td>\n",
       "      <td>1</td>\n",
       "      <td>0</td>\n",
       "      <td>1</td>\n",
       "      <td>0</td>\n",
       "    </tr>\n",
       "  </tbody>\n",
       "</table>\n",
       "</div>"
      ],
      "text/plain": [
       "   movieId    year  ave_rating  Adventure  Animation  Children  Comedy  Fantasy  Romance  Drama  Action  Crime  Thriller  Horror  Mystery  Sci-Fi  Documentary\n",
       "0     3273  2000.0         2.7          0          0         0       1        0        0      0       0      0         1       1        1       0            0\n",
       "1     3275  2000.0         4.2          0          0         0       0        0        0      1       1      1         1       0        0       0            0\n",
       "2     3285  2000.0         3.1          1          0         0       0        0        0      1       0      0         0       0        0       0            0\n",
       "3     3298  2000.0         3.7          0          0         0       0        0        0      1       0      1         1       0        0       0            0\n",
       "4     3300  2000.0         3.6          0          0         0       0        0        0      0       0      0         1       1        0       1            0"
      ]
     },
     "execution_count": 55,
     "metadata": {},
     "output_type": "execute_result"
    }
   ],
   "source": [
    "item_train.head()"
   ]
  },
  {
   "cell_type": "code",
   "execution_count": 56,
   "id": "aacb55d5",
   "metadata": {},
   "outputs": [
    {
     "data": {
      "text/plain": [
       "(482, 17)"
      ]
     },
     "execution_count": 56,
     "metadata": {},
     "output_type": "execute_result"
    }
   ],
   "source": [
    "item_train.shape"
   ]
  },
  {
   "cell_type": "markdown",
   "id": "7ad567c0",
   "metadata": {},
   "source": [
    "##### example movie"
   ]
  },
  {
   "cell_type": "code",
   "execution_count": 57,
   "id": "98214383",
   "metadata": {
    "scrolled": true
   },
   "outputs": [
    {
     "data": {
      "text/html": [
       "<div>\n",
       "<style scoped>\n",
       "    .dataframe tbody tr th:only-of-type {\n",
       "        vertical-align: middle;\n",
       "    }\n",
       "\n",
       "    .dataframe tbody tr th {\n",
       "        vertical-align: top;\n",
       "    }\n",
       "\n",
       "    .dataframe thead th {\n",
       "        text-align: right;\n",
       "    }\n",
       "</style>\n",
       "<table border=\"1\" class=\"dataframe\">\n",
       "  <thead>\n",
       "    <tr style=\"text-align: right;\">\n",
       "      <th></th>\n",
       "      <th>movieId</th>\n",
       "      <th>year</th>\n",
       "      <th>ave_rating</th>\n",
       "      <th>Adventure</th>\n",
       "      <th>Animation</th>\n",
       "      <th>Children</th>\n",
       "      <th>Comedy</th>\n",
       "      <th>Fantasy</th>\n",
       "      <th>Romance</th>\n",
       "      <th>Drama</th>\n",
       "      <th>Action</th>\n",
       "      <th>Crime</th>\n",
       "      <th>Thriller</th>\n",
       "      <th>Horror</th>\n",
       "      <th>Mystery</th>\n",
       "      <th>Sci-Fi</th>\n",
       "      <th>Documentary</th>\n",
       "    </tr>\n",
       "  </thead>\n",
       "  <tbody>\n",
       "    <tr>\n",
       "      <th>288</th>\n",
       "      <td>46970</td>\n",
       "      <td>2006.0</td>\n",
       "      <td>3.2</td>\n",
       "      <td>0</td>\n",
       "      <td>0</td>\n",
       "      <td>0</td>\n",
       "      <td>1</td>\n",
       "      <td>0</td>\n",
       "      <td>0</td>\n",
       "      <td>0</td>\n",
       "      <td>1</td>\n",
       "      <td>0</td>\n",
       "      <td>0</td>\n",
       "      <td>0</td>\n",
       "      <td>0</td>\n",
       "      <td>0</td>\n",
       "      <td>0</td>\n",
       "    </tr>\n",
       "  </tbody>\n",
       "</table>\n",
       "</div>"
      ],
      "text/plain": [
       "     movieId    year  ave_rating  Adventure  Animation  Children  Comedy  Fantasy  Romance  Drama  Action  Crime  Thriller  Horror  Mystery  Sci-Fi  Documentary\n",
       "288    46970  2006.0         3.2          0          0         0       1        0        0      0       1      0         0       0        0       0            0"
      ]
     },
     "execution_count": 57,
     "metadata": {},
     "output_type": "execute_result"
    }
   ],
   "source": [
    "item_train.loc[item_train[\"movieId\"] == 46970, :]"
   ]
  },
  {
   "cell_type": "code",
   "execution_count": 58,
   "id": "8c42e91c",
   "metadata": {},
   "outputs": [
    {
     "data": {
      "text/plain": [
       "movieId        482\n",
       "year            18\n",
       "ave_rating      21\n",
       "Adventure        2\n",
       "Animation        2\n",
       "Children         2\n",
       "Comedy           2\n",
       "Fantasy          2\n",
       "Romance          2\n",
       "Drama            2\n",
       "Action           2\n",
       "Crime            2\n",
       "Thriller         2\n",
       "Horror           2\n",
       "Mystery          2\n",
       "Sci-Fi           2\n",
       "Documentary      2\n",
       "dtype: int64"
      ]
     },
     "execution_count": 58,
     "metadata": {},
     "output_type": "execute_result"
    }
   ],
   "source": [
    "item_train.nunique()"
   ]
  },
  {
   "cell_type": "code",
   "execution_count": 59,
   "id": "52a4bfc4",
   "metadata": {},
   "outputs": [],
   "source": [
    "item_train.sort_values(by = [\"movieId\"], ascending = True, inplace = True)"
   ]
  },
  {
   "cell_type": "code",
   "execution_count": 60,
   "id": "58b1c427",
   "metadata": {},
   "outputs": [
    {
     "data": {
      "text/html": [
       "<div>\n",
       "<style scoped>\n",
       "    .dataframe tbody tr th:only-of-type {\n",
       "        vertical-align: middle;\n",
       "    }\n",
       "\n",
       "    .dataframe tbody tr th {\n",
       "        vertical-align: top;\n",
       "    }\n",
       "\n",
       "    .dataframe thead th {\n",
       "        text-align: right;\n",
       "    }\n",
       "</style>\n",
       "<table border=\"1\" class=\"dataframe\">\n",
       "  <thead>\n",
       "    <tr style=\"text-align: right;\">\n",
       "      <th></th>\n",
       "      <th>movieId</th>\n",
       "      <th>year</th>\n",
       "      <th>ave_rating</th>\n",
       "      <th>Adventure</th>\n",
       "      <th>Animation</th>\n",
       "      <th>Children</th>\n",
       "      <th>Comedy</th>\n",
       "      <th>Fantasy</th>\n",
       "      <th>Romance</th>\n",
       "      <th>Drama</th>\n",
       "      <th>Action</th>\n",
       "      <th>Crime</th>\n",
       "      <th>Thriller</th>\n",
       "      <th>Horror</th>\n",
       "      <th>Mystery</th>\n",
       "      <th>Sci-Fi</th>\n",
       "      <th>Documentary</th>\n",
       "    </tr>\n",
       "  </thead>\n",
       "  <tbody>\n",
       "    <tr>\n",
       "      <th>0</th>\n",
       "      <td>3273</td>\n",
       "      <td>2000.0</td>\n",
       "      <td>2.7</td>\n",
       "      <td>0</td>\n",
       "      <td>0</td>\n",
       "      <td>0</td>\n",
       "      <td>1</td>\n",
       "      <td>0</td>\n",
       "      <td>0</td>\n",
       "      <td>0</td>\n",
       "      <td>0</td>\n",
       "      <td>0</td>\n",
       "      <td>1</td>\n",
       "      <td>1</td>\n",
       "      <td>1</td>\n",
       "      <td>0</td>\n",
       "      <td>0</td>\n",
       "    </tr>\n",
       "    <tr>\n",
       "      <th>1</th>\n",
       "      <td>3275</td>\n",
       "      <td>2000.0</td>\n",
       "      <td>4.2</td>\n",
       "      <td>0</td>\n",
       "      <td>0</td>\n",
       "      <td>0</td>\n",
       "      <td>0</td>\n",
       "      <td>0</td>\n",
       "      <td>0</td>\n",
       "      <td>1</td>\n",
       "      <td>1</td>\n",
       "      <td>1</td>\n",
       "      <td>1</td>\n",
       "      <td>0</td>\n",
       "      <td>0</td>\n",
       "      <td>0</td>\n",
       "      <td>0</td>\n",
       "    </tr>\n",
       "    <tr>\n",
       "      <th>2</th>\n",
       "      <td>3285</td>\n",
       "      <td>2000.0</td>\n",
       "      <td>3.1</td>\n",
       "      <td>1</td>\n",
       "      <td>0</td>\n",
       "      <td>0</td>\n",
       "      <td>0</td>\n",
       "      <td>0</td>\n",
       "      <td>0</td>\n",
       "      <td>1</td>\n",
       "      <td>0</td>\n",
       "      <td>0</td>\n",
       "      <td>0</td>\n",
       "      <td>0</td>\n",
       "      <td>0</td>\n",
       "      <td>0</td>\n",
       "      <td>0</td>\n",
       "    </tr>\n",
       "    <tr>\n",
       "      <th>3</th>\n",
       "      <td>3298</td>\n",
       "      <td>2000.0</td>\n",
       "      <td>3.7</td>\n",
       "      <td>0</td>\n",
       "      <td>0</td>\n",
       "      <td>0</td>\n",
       "      <td>0</td>\n",
       "      <td>0</td>\n",
       "      <td>0</td>\n",
       "      <td>1</td>\n",
       "      <td>0</td>\n",
       "      <td>1</td>\n",
       "      <td>1</td>\n",
       "      <td>0</td>\n",
       "      <td>0</td>\n",
       "      <td>0</td>\n",
       "      <td>0</td>\n",
       "    </tr>\n",
       "    <tr>\n",
       "      <th>4</th>\n",
       "      <td>3300</td>\n",
       "      <td>2000.0</td>\n",
       "      <td>3.6</td>\n",
       "      <td>0</td>\n",
       "      <td>0</td>\n",
       "      <td>0</td>\n",
       "      <td>0</td>\n",
       "      <td>0</td>\n",
       "      <td>0</td>\n",
       "      <td>0</td>\n",
       "      <td>0</td>\n",
       "      <td>0</td>\n",
       "      <td>1</td>\n",
       "      <td>1</td>\n",
       "      <td>0</td>\n",
       "      <td>1</td>\n",
       "      <td>0</td>\n",
       "    </tr>\n",
       "  </tbody>\n",
       "</table>\n",
       "</div>"
      ],
      "text/plain": [
       "   movieId    year  ave_rating  Adventure  Animation  Children  Comedy  Fantasy  Romance  Drama  Action  Crime  Thriller  Horror  Mystery  Sci-Fi  Documentary\n",
       "0     3273  2000.0         2.7          0          0         0       1        0        0      0       0      0         1       1        1       0            0\n",
       "1     3275  2000.0         4.2          0          0         0       0        0        0      1       1      1         1       0        0       0            0\n",
       "2     3285  2000.0         3.1          1          0         0       0        0        0      1       0      0         0       0        0       0            0\n",
       "3     3298  2000.0         3.7          0          0         0       0        0        0      1       0      1         1       0        0       0            0\n",
       "4     3300  2000.0         3.6          0          0         0       0        0        0      0       0      0         1       1        0       1            0"
      ]
     },
     "execution_count": 60,
     "metadata": {},
     "output_type": "execute_result"
    }
   ],
   "source": [
    "item_train.head()"
   ]
  },
  {
   "cell_type": "markdown",
   "id": "7e7628a5",
   "metadata": {},
   "source": [
    "",
    "### rating count column for users"
   ]
  },
  {
   "cell_type": "code",
   "execution_count": 61,
   "id": "6f6b6a30",
   "metadata": {},
   "outputs": [
    {
     "data": {
      "text/html": [
       "<div>\n",
       "<style scoped>\n",
       "    .dataframe tbody tr th:only-of-type {\n",
       "        vertical-align: middle;\n",
       "    }\n",
       "\n",
       "    .dataframe tbody tr th {\n",
       "        vertical-align: top;\n",
       "    }\n",
       "\n",
       "    .dataframe thead th {\n",
       "        text-align: right;\n",
       "    }\n",
       "</style>\n",
       "<table border=\"1\" class=\"dataframe\">\n",
       "  <thead>\n",
       "    <tr style=\"text-align: right;\">\n",
       "      <th></th>\n",
       "      <th>movieId</th>\n",
       "      <th>title</th>\n",
       "      <th>genres</th>\n",
       "      <th>year</th>\n",
       "      <th>userId</th>\n",
       "      <th>rating</th>\n",
       "      <th>timestamp</th>\n",
       "    </tr>\n",
       "  </thead>\n",
       "  <tbody>\n",
       "    <tr>\n",
       "      <th>53190</th>\n",
       "      <td>3273</td>\n",
       "      <td>Scream 3 (2000)</td>\n",
       "      <td>Comedy|Horror|Mystery|Thriller</td>\n",
       "      <td>2000</td>\n",
       "      <td>1</td>\n",
       "      <td>5.0</td>\n",
       "      <td>964983536</td>\n",
       "    </tr>\n",
       "    <tr>\n",
       "      <th>53191</th>\n",
       "      <td>3273</td>\n",
       "      <td>Scream 3 (2000)</td>\n",
       "      <td>Comedy|Horror|Mystery|Thriller</td>\n",
       "      <td>2000</td>\n",
       "      <td>19</td>\n",
       "      <td>2.0</td>\n",
       "      <td>965703084</td>\n",
       "    </tr>\n",
       "    <tr>\n",
       "      <th>53192</th>\n",
       "      <td>3273</td>\n",
       "      <td>Scream 3 (2000)</td>\n",
       "      <td>Comedy|Horror|Mystery|Thriller</td>\n",
       "      <td>2000</td>\n",
       "      <td>45</td>\n",
       "      <td>4.0</td>\n",
       "      <td>1007995150</td>\n",
       "    </tr>\n",
       "    <tr>\n",
       "      <th>53193</th>\n",
       "      <td>3273</td>\n",
       "      <td>Scream 3 (2000)</td>\n",
       "      <td>Comedy|Horror|Mystery|Thriller</td>\n",
       "      <td>2000</td>\n",
       "      <td>64</td>\n",
       "      <td>2.0</td>\n",
       "      <td>1161620569</td>\n",
       "    </tr>\n",
       "    <tr>\n",
       "      <th>53194</th>\n",
       "      <td>3273</td>\n",
       "      <td>Scream 3 (2000)</td>\n",
       "      <td>Comedy|Horror|Mystery|Thriller</td>\n",
       "      <td>2000</td>\n",
       "      <td>68</td>\n",
       "      <td>2.0</td>\n",
       "      <td>1158535390</td>\n",
       "    </tr>\n",
       "  </tbody>\n",
       "</table>\n",
       "</div>"
      ],
      "text/plain": [
       "       movieId            title                          genres  year  userId  rating   timestamp\n",
       "53190     3273  Scream 3 (2000)  Comedy|Horror|Mystery|Thriller  2000       1     5.0   964983536\n",
       "53191     3273  Scream 3 (2000)  Comedy|Horror|Mystery|Thriller  2000      19     2.0   965703084\n",
       "53192     3273  Scream 3 (2000)  Comedy|Horror|Mystery|Thriller  2000      45     4.0  1007995150\n",
       "53193     3273  Scream 3 (2000)  Comedy|Horror|Mystery|Thriller  2000      64     2.0  1161620569\n",
       "53194     3273  Scream 3 (2000)  Comedy|Horror|Mystery|Thriller  2000      68     2.0  1158535390"
      ]
     },
     "execution_count": 61,
     "metadata": {},
     "output_type": "execute_result"
    }
   ],
   "source": [
    "df.head()"
   ]
  },
  {
   "cell_type": "code",
   "execution_count": 62,
   "id": "07ba6ce7",
   "metadata": {},
   "outputs": [
    {
     "data": {
      "text/plain": [
       "(442, 2)"
      ]
     },
     "execution_count": 62,
     "metadata": {},
     "output_type": "execute_result"
    }
   ],
   "source": [
    "rating_count = df.groupby([\"userId\"]).agg({\"movieId\": \"count\"})\n",
    "rating_count.reset_index(inplace=True)\n",
    "rating_count.columns = [\"userId\",\"movie_count\"]\n",
    "rating_count.shape"
   ]
  },
  {
   "cell_type": "markdown",
   "id": "81076518",
   "metadata": {},
   "source": [
    "### rating average for users"
   ]
  },
  {
   "cell_type": "code",
   "execution_count": 63,
   "id": "15766e25",
   "metadata": {},
   "outputs": [
    {
     "data": {
      "text/plain": [
       "(442, 1)"
      ]
     },
     "execution_count": 63,
     "metadata": {},
     "output_type": "execute_result"
    }
   ],
   "source": [
    "rating_av = df.groupby([\"userId\"]).agg({\"rating\": \"mean\"})\n",
    "rating_av.reset_index(inplace=True, drop=True)\n",
    "rating_av.columns = [\"rating_ave\"]\n",
    "rating_av.shape"
   ]
  },
  {
   "cell_type": "markdown",
   "id": "f5940274",
   "metadata": {},
   "source": [
    "### average per genre for each user"
   ]
  },
  {
   "cell_type": "code",
   "execution_count": 65,
   "id": "a0821e9e",
   "metadata": {},
   "outputs": [],
   "source": [
    "def splitt(value):\n",
    "    return value.split(\"|\")"
   ]
  },
  {
   "cell_type": "code",
   "execution_count": 66,
   "id": "1fab83eb",
   "metadata": {},
   "outputs": [],
   "source": [
    "df_modified = df.copy()"
   ]
  },
  {
   "cell_type": "code",
   "execution_count": 67,
   "id": "7cda57f6",
   "metadata": {},
   "outputs": [],
   "source": [
    "df_modified[\"genres\"] = df[\"genres\"].apply(splitt)"
   ]
  },
  {
   "cell_type": "code",
   "execution_count": 69,
   "id": "df1e919d",
   "metadata": {},
   "outputs": [
    {
     "data": {
      "text/html": [
       "<div>\n",
       "<style scoped>\n",
       "    .dataframe tbody tr th:only-of-type {\n",
       "        vertical-align: middle;\n",
       "    }\n",
       "\n",
       "    .dataframe tbody tr th {\n",
       "        vertical-align: top;\n",
       "    }\n",
       "\n",
       "    .dataframe thead th {\n",
       "        text-align: right;\n",
       "    }\n",
       "</style>\n",
       "<table border=\"1\" class=\"dataframe\">\n",
       "  <thead>\n",
       "    <tr style=\"text-align: right;\">\n",
       "      <th></th>\n",
       "      <th>movieId</th>\n",
       "      <th>title</th>\n",
       "      <th>genres</th>\n",
       "      <th>year</th>\n",
       "      <th>userId</th>\n",
       "      <th>rating</th>\n",
       "      <th>timestamp</th>\n",
       "    </tr>\n",
       "  </thead>\n",
       "  <tbody>\n",
       "    <tr>\n",
       "      <th>53190</th>\n",
       "      <td>3273</td>\n",
       "      <td>Scream 3 (2000)</td>\n",
       "      <td>[Comedy, Horror, Mystery, Thriller]</td>\n",
       "      <td>2000</td>\n",
       "      <td>1</td>\n",
       "      <td>5.0</td>\n",
       "      <td>964983536</td>\n",
       "    </tr>\n",
       "    <tr>\n",
       "      <th>53191</th>\n",
       "      <td>3273</td>\n",
       "      <td>Scream 3 (2000)</td>\n",
       "      <td>[Comedy, Horror, Mystery, Thriller]</td>\n",
       "      <td>2000</td>\n",
       "      <td>19</td>\n",
       "      <td>2.0</td>\n",
       "      <td>965703084</td>\n",
       "    </tr>\n",
       "    <tr>\n",
       "      <th>53192</th>\n",
       "      <td>3273</td>\n",
       "      <td>Scream 3 (2000)</td>\n",
       "      <td>[Comedy, Horror, Mystery, Thriller]</td>\n",
       "      <td>2000</td>\n",
       "      <td>45</td>\n",
       "      <td>4.0</td>\n",
       "      <td>1007995150</td>\n",
       "    </tr>\n",
       "    <tr>\n",
       "      <th>53193</th>\n",
       "      <td>3273</td>\n",
       "      <td>Scream 3 (2000)</td>\n",
       "      <td>[Comedy, Horror, Mystery, Thriller]</td>\n",
       "      <td>2000</td>\n",
       "      <td>64</td>\n",
       "      <td>2.0</td>\n",
       "      <td>1161620569</td>\n",
       "    </tr>\n",
       "    <tr>\n",
       "      <th>53194</th>\n",
       "      <td>3273</td>\n",
       "      <td>Scream 3 (2000)</td>\n",
       "      <td>[Comedy, Horror, Mystery, Thriller]</td>\n",
       "      <td>2000</td>\n",
       "      <td>68</td>\n",
       "      <td>2.0</td>\n",
       "      <td>1158535390</td>\n",
       "    </tr>\n",
       "  </tbody>\n",
       "</table>\n",
       "</div>"
      ],
      "text/plain": [
       "       movieId            title                               genres  year  userId  rating   timestamp\n",
       "53190     3273  Scream 3 (2000)  [Comedy, Horror, Mystery, Thriller]  2000       1     5.0   964983536\n",
       "53191     3273  Scream 3 (2000)  [Comedy, Horror, Mystery, Thriller]  2000      19     2.0   965703084\n",
       "53192     3273  Scream 3 (2000)  [Comedy, Horror, Mystery, Thriller]  2000      45     4.0  1007995150\n",
       "53193     3273  Scream 3 (2000)  [Comedy, Horror, Mystery, Thriller]  2000      64     2.0  1161620569\n",
       "53194     3273  Scream 3 (2000)  [Comedy, Horror, Mystery, Thriller]  2000      68     2.0  1158535390"
      ]
     },
     "execution_count": 69,
     "metadata": {},
     "output_type": "execute_result"
    }
   ],
   "source": [
    "df_modified.head()"
   ]
  },
  {
   "cell_type": "code",
   "execution_count": 70,
   "id": "83d32262",
   "metadata": {},
   "outputs": [
    {
     "name": "stdout",
     "output_type": "stream",
     "text": [
      "1\n",
      "610\n"
     ]
    }
   ],
   "source": [
    "print(min(df_modified.userId))\n",
    "print(max(df_modified.userId))"
   ]
  },
  {
   "cell_type": "markdown",
   "id": "8746d43f",
   "metadata": {},
   "source": [
    "### outer for loop looks at every genre. in the first inner loop, we took the indexes of the rows which have that genre. using these indexes we create a data frame df_temp. this data frame consists of the rows that have corresponding genre from the outer loop. since this data frame does not have every userId, we add missing user id's as dummy rows to this dataframe. Lastly, using genre_dict_user, we store the average ratings of the genres per user. genre_dict_user's keys are the genres. values are lists. each key has a corresponding value list. these value lists consist of average rating of the users for corresponding genre. "
   ]
  },
  {
   "cell_type": "code",
   "execution_count": 72,
   "id": "a2dc6c58",
   "metadata": {},
   "outputs": [
    {
     "data": {
      "text/html": [
       "<div>\n",
       "<style scoped>\n",
       "    .dataframe tbody tr th:only-of-type {\n",
       "        vertical-align: middle;\n",
       "    }\n",
       "\n",
       "    .dataframe tbody tr th {\n",
       "        vertical-align: top;\n",
       "    }\n",
       "\n",
       "    .dataframe thead th {\n",
       "        text-align: right;\n",
       "    }\n",
       "</style>\n",
       "<table border=\"1\" class=\"dataframe\">\n",
       "  <thead>\n",
       "    <tr style=\"text-align: right;\">\n",
       "      <th></th>\n",
       "      <th>movieId</th>\n",
       "      <th>title</th>\n",
       "      <th>genres</th>\n",
       "      <th>year</th>\n",
       "      <th>userId</th>\n",
       "      <th>rating</th>\n",
       "      <th>timestamp</th>\n",
       "    </tr>\n",
       "  </thead>\n",
       "  <tbody>\n",
       "    <tr>\n",
       "      <th>53190</th>\n",
       "      <td>3273</td>\n",
       "      <td>Scream 3 (2000)</td>\n",
       "      <td>[Comedy, Horror, Mystery, Thriller]</td>\n",
       "      <td>2000</td>\n",
       "      <td>1</td>\n",
       "      <td>5.0</td>\n",
       "      <td>964983536</td>\n",
       "    </tr>\n",
       "    <tr>\n",
       "      <th>53191</th>\n",
       "      <td>3273</td>\n",
       "      <td>Scream 3 (2000)</td>\n",
       "      <td>[Comedy, Horror, Mystery, Thriller]</td>\n",
       "      <td>2000</td>\n",
       "      <td>19</td>\n",
       "      <td>2.0</td>\n",
       "      <td>965703084</td>\n",
       "    </tr>\n",
       "    <tr>\n",
       "      <th>53192</th>\n",
       "      <td>3273</td>\n",
       "      <td>Scream 3 (2000)</td>\n",
       "      <td>[Comedy, Horror, Mystery, Thriller]</td>\n",
       "      <td>2000</td>\n",
       "      <td>45</td>\n",
       "      <td>4.0</td>\n",
       "      <td>1007995150</td>\n",
       "    </tr>\n",
       "    <tr>\n",
       "      <th>53193</th>\n",
       "      <td>3273</td>\n",
       "      <td>Scream 3 (2000)</td>\n",
       "      <td>[Comedy, Horror, Mystery, Thriller]</td>\n",
       "      <td>2000</td>\n",
       "      <td>64</td>\n",
       "      <td>2.0</td>\n",
       "      <td>1161620569</td>\n",
       "    </tr>\n",
       "    <tr>\n",
       "      <th>53194</th>\n",
       "      <td>3273</td>\n",
       "      <td>Scream 3 (2000)</td>\n",
       "      <td>[Comedy, Horror, Mystery, Thriller]</td>\n",
       "      <td>2000</td>\n",
       "      <td>68</td>\n",
       "      <td>2.0</td>\n",
       "      <td>1158535390</td>\n",
       "    </tr>\n",
       "  </tbody>\n",
       "</table>\n",
       "</div>"
      ],
      "text/plain": [
       "       movieId            title                               genres  year  userId  rating   timestamp\n",
       "53190     3273  Scream 3 (2000)  [Comedy, Horror, Mystery, Thriller]  2000       1     5.0   964983536\n",
       "53191     3273  Scream 3 (2000)  [Comedy, Horror, Mystery, Thriller]  2000      19     2.0   965703084\n",
       "53192     3273  Scream 3 (2000)  [Comedy, Horror, Mystery, Thriller]  2000      45     4.0  1007995150\n",
       "53193     3273  Scream 3 (2000)  [Comedy, Horror, Mystery, Thriller]  2000      64     2.0  1161620569\n",
       "53194     3273  Scream 3 (2000)  [Comedy, Horror, Mystery, Thriller]  2000      68     2.0  1158535390"
      ]
     },
     "execution_count": 72,
     "metadata": {},
     "output_type": "execute_result"
    }
   ],
   "source": [
    "pd.DataFrame(df_modified).head()"
   ]
  },
  {
   "cell_type": "code",
   "execution_count": 73,
   "id": "952833c8",
   "metadata": {},
   "outputs": [
    {
     "name": "stdout",
     "output_type": "stream",
     "text": [
      "1\n",
      "2\n",
      "3\n",
      "4\n",
      "5\n",
      "6\n",
      "7\n",
      "8\n",
      "9\n",
      "10\n",
      "11\n",
      "12\n",
      "13\n",
      "14\n"
     ]
    }
   ],
   "source": [
    "genre_dict_user = {}\n",
    "step = 0\n",
    "\n",
    "for genre in genre_list:\n",
    "    genre_index_list = []\n",
    "    \n",
    "    for i in range(df_modified.shape[0]):\n",
    "        if genre in df_modified.iloc[i, 2]:\n",
    "            genre_index_list.append(i)\n",
    "    \n",
    "    df_temp = df_modified.iloc[(genre_index_list), :]\n",
    "    \n",
    "    for id in df_modified.userId.values:\n",
    "        if id not in df_temp.userId.values:\n",
    "            #print(\"id not in temp df\")\n",
    "            new_row = {\"movieId\":0, \"title\": \"null\", \"genres\":\"null\", \"userId\":id, \"rating\":0,\"timestamp\":0}\n",
    "            new_df = pd.DataFrame(new_row, index = [0])\n",
    "            df_temp = pd.concat([df_temp, new_df], ignore_index = True)\n",
    "            #df_temp.reset_index(inplace=True)\n",
    "    \n",
    "    genre_dict_user[genre] = df_temp.groupby([\"userId\"]).agg({\"rating\": \"mean\"}).values.flatten()\n",
    "    step += 1\n",
    "    print(step)"
   ]
  },
  {
   "cell_type": "code",
   "execution_count": 74,
   "id": "8bb8ddd8",
   "metadata": {},
   "outputs": [
    {
     "data": {
      "text/html": [
       "<div>\n",
       "<style scoped>\n",
       "    .dataframe tbody tr th:only-of-type {\n",
       "        vertical-align: middle;\n",
       "    }\n",
       "\n",
       "    .dataframe tbody tr th {\n",
       "        vertical-align: top;\n",
       "    }\n",
       "\n",
       "    .dataframe thead th {\n",
       "        text-align: right;\n",
       "    }\n",
       "</style>\n",
       "<table border=\"1\" class=\"dataframe\">\n",
       "  <thead>\n",
       "    <tr style=\"text-align: right;\">\n",
       "      <th></th>\n",
       "      <th>Adventure</th>\n",
       "      <th>Animation</th>\n",
       "      <th>Children</th>\n",
       "      <th>Comedy</th>\n",
       "      <th>Fantasy</th>\n",
       "      <th>Romance</th>\n",
       "      <th>Drama</th>\n",
       "      <th>Action</th>\n",
       "      <th>Crime</th>\n",
       "      <th>Thriller</th>\n",
       "      <th>Horror</th>\n",
       "      <th>Mystery</th>\n",
       "      <th>Sci-Fi</th>\n",
       "      <th>Documentary</th>\n",
       "    </tr>\n",
       "  </thead>\n",
       "  <tbody>\n",
       "    <tr>\n",
       "      <th>0</th>\n",
       "      <td>5.000000</td>\n",
       "      <td>0.000000</td>\n",
       "      <td>0.000</td>\n",
       "      <td>4.500000</td>\n",
       "      <td>0.000000</td>\n",
       "      <td>0.000000</td>\n",
       "      <td>5.000000</td>\n",
       "      <td>5.000000</td>\n",
       "      <td>0.000000</td>\n",
       "      <td>5.000000</td>\n",
       "      <td>5.00</td>\n",
       "      <td>5.000000</td>\n",
       "      <td>5.000000</td>\n",
       "      <td>0.0</td>\n",
       "    </tr>\n",
       "    <tr>\n",
       "      <th>1</th>\n",
       "      <td>4.166667</td>\n",
       "      <td>0.000000</td>\n",
       "      <td>0.000</td>\n",
       "      <td>4.250000</td>\n",
       "      <td>0.000000</td>\n",
       "      <td>0.000000</td>\n",
       "      <td>3.961538</td>\n",
       "      <td>3.954545</td>\n",
       "      <td>4.125000</td>\n",
       "      <td>3.888889</td>\n",
       "      <td>3.00</td>\n",
       "      <td>4.000000</td>\n",
       "      <td>3.875000</td>\n",
       "      <td>0.0</td>\n",
       "    </tr>\n",
       "    <tr>\n",
       "      <th>2</th>\n",
       "      <td>0.000000</td>\n",
       "      <td>0.000000</td>\n",
       "      <td>0.000</td>\n",
       "      <td>0.000000</td>\n",
       "      <td>0.000000</td>\n",
       "      <td>0.000000</td>\n",
       "      <td>0.500000</td>\n",
       "      <td>0.500000</td>\n",
       "      <td>0.000000</td>\n",
       "      <td>0.500000</td>\n",
       "      <td>0.00</td>\n",
       "      <td>0.000000</td>\n",
       "      <td>0.500000</td>\n",
       "      <td>0.0</td>\n",
       "    </tr>\n",
       "    <tr>\n",
       "      <th>3</th>\n",
       "      <td>3.500000</td>\n",
       "      <td>0.000000</td>\n",
       "      <td>4.000</td>\n",
       "      <td>2.833333</td>\n",
       "      <td>4.000000</td>\n",
       "      <td>2.400000</td>\n",
       "      <td>3.250000</td>\n",
       "      <td>4.000000</td>\n",
       "      <td>4.333333</td>\n",
       "      <td>3.500000</td>\n",
       "      <td>0.00</td>\n",
       "      <td>2.000000</td>\n",
       "      <td>0.000000</td>\n",
       "      <td>0.0</td>\n",
       "    </tr>\n",
       "    <tr>\n",
       "      <th>4</th>\n",
       "      <td>3.209677</td>\n",
       "      <td>4.071429</td>\n",
       "      <td>3.625</td>\n",
       "      <td>3.500000</td>\n",
       "      <td>4.045455</td>\n",
       "      <td>2.722222</td>\n",
       "      <td>3.080000</td>\n",
       "      <td>2.968750</td>\n",
       "      <td>3.500000</td>\n",
       "      <td>3.238095</td>\n",
       "      <td>2.75</td>\n",
       "      <td>3.142857</td>\n",
       "      <td>2.738095</td>\n",
       "      <td>0.0</td>\n",
       "    </tr>\n",
       "  </tbody>\n",
       "</table>\n",
       "</div>"
      ],
      "text/plain": [
       "   Adventure  Animation  Children    Comedy   Fantasy   Romance     Drama    Action     Crime  Thriller  Horror   Mystery    Sci-Fi  Documentary\n",
       "0   5.000000   0.000000     0.000  4.500000  0.000000  0.000000  5.000000  5.000000  0.000000  5.000000    5.00  5.000000  5.000000          0.0\n",
       "1   4.166667   0.000000     0.000  4.250000  0.000000  0.000000  3.961538  3.954545  4.125000  3.888889    3.00  4.000000  3.875000          0.0\n",
       "2   0.000000   0.000000     0.000  0.000000  0.000000  0.000000  0.500000  0.500000  0.000000  0.500000    0.00  0.000000  0.500000          0.0\n",
       "3   3.500000   0.000000     4.000  2.833333  4.000000  2.400000  3.250000  4.000000  4.333333  3.500000    0.00  2.000000  0.000000          0.0\n",
       "4   3.209677   4.071429     3.625  3.500000  4.045455  2.722222  3.080000  2.968750  3.500000  3.238095    2.75  3.142857  2.738095          0.0"
      ]
     },
     "execution_count": 74,
     "metadata": {},
     "output_type": "execute_result"
    }
   ],
   "source": [
    "pd.DataFrame(genre_dict_user).head()"
   ]
  },
  {
   "cell_type": "code",
   "execution_count": 75,
   "id": "489250c7",
   "metadata": {},
   "outputs": [],
   "source": [
    "user_train = pd.concat([rating_count, rating_av, pd.DataFrame(genre_dict_user)], axis = 1)"
   ]
  },
  {
   "cell_type": "code",
   "execution_count": 76,
   "id": "c76c95ef",
   "metadata": {},
   "outputs": [],
   "source": [
    "user_train_columns = user_train.columns"
   ]
  },
  {
   "cell_type": "code",
   "execution_count": 77,
   "id": "ed6d43bf",
   "metadata": {},
   "outputs": [],
   "source": [
    "user_train.loc[:, (user_train.columns != \"userId\") & (user_train.columns != \"movie_count\")] = user_train.loc[:,(user_train.columns != \"userId\") & (user_train.columns != \"movie_count\")].applymap(lambda x: float(\"{:.1f}\".format(x)))"
   ]
  },
  {
   "cell_type": "code",
   "execution_count": 78,
   "id": "af4b769e",
   "metadata": {},
   "outputs": [
    {
     "data": {
      "text/html": [
       "<div>\n",
       "<style scoped>\n",
       "    .dataframe tbody tr th:only-of-type {\n",
       "        vertical-align: middle;\n",
       "    }\n",
       "\n",
       "    .dataframe tbody tr th {\n",
       "        vertical-align: top;\n",
       "    }\n",
       "\n",
       "    .dataframe thead th {\n",
       "        text-align: right;\n",
       "    }\n",
       "</style>\n",
       "<table border=\"1\" class=\"dataframe\">\n",
       "  <thead>\n",
       "    <tr style=\"text-align: right;\">\n",
       "      <th></th>\n",
       "      <th>userId</th>\n",
       "      <th>movie_count</th>\n",
       "      <th>rating_ave</th>\n",
       "      <th>Adventure</th>\n",
       "      <th>Animation</th>\n",
       "      <th>Children</th>\n",
       "      <th>Comedy</th>\n",
       "      <th>Fantasy</th>\n",
       "      <th>Romance</th>\n",
       "      <th>Drama</th>\n",
       "      <th>Action</th>\n",
       "      <th>Crime</th>\n",
       "      <th>Thriller</th>\n",
       "      <th>Horror</th>\n",
       "      <th>Mystery</th>\n",
       "      <th>Sci-Fi</th>\n",
       "      <th>Documentary</th>\n",
       "    </tr>\n",
       "  </thead>\n",
       "  <tbody>\n",
       "    <tr>\n",
       "      <th>0</th>\n",
       "      <td>1</td>\n",
       "      <td>4</td>\n",
       "      <td>4.8</td>\n",
       "      <td>5.0</td>\n",
       "      <td>0.0</td>\n",
       "      <td>0.0</td>\n",
       "      <td>4.5</td>\n",
       "      <td>0.0</td>\n",
       "      <td>0.0</td>\n",
       "      <td>5.0</td>\n",
       "      <td>5.0</td>\n",
       "      <td>0.0</td>\n",
       "      <td>5.0</td>\n",
       "      <td>5.0</td>\n",
       "      <td>5.0</td>\n",
       "      <td>5.0</td>\n",
       "      <td>0.0</td>\n",
       "    </tr>\n",
       "    <tr>\n",
       "      <th>1</th>\n",
       "      <td>2</td>\n",
       "      <td>20</td>\n",
       "      <td>4.0</td>\n",
       "      <td>4.2</td>\n",
       "      <td>0.0</td>\n",
       "      <td>0.0</td>\n",
       "      <td>4.2</td>\n",
       "      <td>0.0</td>\n",
       "      <td>0.0</td>\n",
       "      <td>4.0</td>\n",
       "      <td>4.0</td>\n",
       "      <td>4.1</td>\n",
       "      <td>3.9</td>\n",
       "      <td>3.0</td>\n",
       "      <td>4.0</td>\n",
       "      <td>3.9</td>\n",
       "      <td>0.0</td>\n",
       "    </tr>\n",
       "    <tr>\n",
       "      <th>2</th>\n",
       "      <td>3</td>\n",
       "      <td>2</td>\n",
       "      <td>0.5</td>\n",
       "      <td>0.0</td>\n",
       "      <td>0.0</td>\n",
       "      <td>0.0</td>\n",
       "      <td>0.0</td>\n",
       "      <td>0.0</td>\n",
       "      <td>0.0</td>\n",
       "      <td>0.5</td>\n",
       "      <td>0.5</td>\n",
       "      <td>0.0</td>\n",
       "      <td>0.5</td>\n",
       "      <td>0.0</td>\n",
       "      <td>0.0</td>\n",
       "      <td>0.5</td>\n",
       "      <td>0.0</td>\n",
       "    </tr>\n",
       "    <tr>\n",
       "      <th>3</th>\n",
       "      <td>4</td>\n",
       "      <td>16</td>\n",
       "      <td>3.2</td>\n",
       "      <td>3.5</td>\n",
       "      <td>0.0</td>\n",
       "      <td>4.0</td>\n",
       "      <td>2.8</td>\n",
       "      <td>4.0</td>\n",
       "      <td>2.4</td>\n",
       "      <td>3.2</td>\n",
       "      <td>4.0</td>\n",
       "      <td>4.3</td>\n",
       "      <td>3.5</td>\n",
       "      <td>0.0</td>\n",
       "      <td>2.0</td>\n",
       "      <td>0.0</td>\n",
       "      <td>0.0</td>\n",
       "    </tr>\n",
       "    <tr>\n",
       "      <th>4</th>\n",
       "      <td>7</td>\n",
       "      <td>69</td>\n",
       "      <td>3.2</td>\n",
       "      <td>3.2</td>\n",
       "      <td>4.1</td>\n",
       "      <td>3.6</td>\n",
       "      <td>3.5</td>\n",
       "      <td>4.0</td>\n",
       "      <td>2.7</td>\n",
       "      <td>3.1</td>\n",
       "      <td>3.0</td>\n",
       "      <td>3.5</td>\n",
       "      <td>3.2</td>\n",
       "      <td>2.8</td>\n",
       "      <td>3.1</td>\n",
       "      <td>2.7</td>\n",
       "      <td>0.0</td>\n",
       "    </tr>\n",
       "  </tbody>\n",
       "</table>\n",
       "</div>"
      ],
      "text/plain": [
       "   userId  movie_count  rating_ave  Adventure  Animation  Children  Comedy  Fantasy  Romance  Drama  Action  Crime  Thriller  Horror  Mystery  Sci-Fi  Documentary\n",
       "0       1            4         4.8        5.0        0.0       0.0     4.5      0.0      0.0    5.0     5.0    0.0       5.0     5.0      5.0     5.0          0.0\n",
       "1       2           20         4.0        4.2        0.0       0.0     4.2      0.0      0.0    4.0     4.0    4.1       3.9     3.0      4.0     3.9          0.0\n",
       "2       3            2         0.5        0.0        0.0       0.0     0.0      0.0      0.0    0.5     0.5    0.0       0.5     0.0      0.0     0.5          0.0\n",
       "3       4           16         3.2        3.5        0.0       4.0     2.8      4.0      2.4    3.2     4.0    4.3       3.5     0.0      2.0     0.0          0.0\n",
       "4       7           69         3.2        3.2        4.1       3.6     3.5      4.0      2.7    3.1     3.0    3.5       3.2     2.8      3.1     2.7          0.0"
      ]
     },
     "execution_count": 78,
     "metadata": {},
     "output_type": "execute_result"
    }
   ],
   "source": [
    "user_train.head()"
   ]
  },
  {
   "cell_type": "code",
   "execution_count": 79,
   "id": "ce352414",
   "metadata": {},
   "outputs": [
    {
     "data": {
      "text/html": [
       "<div>\n",
       "<style scoped>\n",
       "    .dataframe tbody tr th:only-of-type {\n",
       "        vertical-align: middle;\n",
       "    }\n",
       "\n",
       "    .dataframe tbody tr th {\n",
       "        vertical-align: top;\n",
       "    }\n",
       "\n",
       "    .dataframe thead th {\n",
       "        text-align: right;\n",
       "    }\n",
       "</style>\n",
       "<table border=\"1\" class=\"dataframe\">\n",
       "  <thead>\n",
       "    <tr style=\"text-align: right;\">\n",
       "      <th></th>\n",
       "      <th>movieId</th>\n",
       "      <th>year</th>\n",
       "      <th>ave_rating</th>\n",
       "      <th>Adventure</th>\n",
       "      <th>Animation</th>\n",
       "      <th>Children</th>\n",
       "      <th>Comedy</th>\n",
       "      <th>Fantasy</th>\n",
       "      <th>Romance</th>\n",
       "      <th>Drama</th>\n",
       "      <th>Action</th>\n",
       "      <th>Crime</th>\n",
       "      <th>Thriller</th>\n",
       "      <th>Horror</th>\n",
       "      <th>Mystery</th>\n",
       "      <th>Sci-Fi</th>\n",
       "      <th>Documentary</th>\n",
       "    </tr>\n",
       "  </thead>\n",
       "  <tbody>\n",
       "    <tr>\n",
       "      <th>0</th>\n",
       "      <td>3273</td>\n",
       "      <td>2000.0</td>\n",
       "      <td>2.7</td>\n",
       "      <td>0</td>\n",
       "      <td>0</td>\n",
       "      <td>0</td>\n",
       "      <td>1</td>\n",
       "      <td>0</td>\n",
       "      <td>0</td>\n",
       "      <td>0</td>\n",
       "      <td>0</td>\n",
       "      <td>0</td>\n",
       "      <td>1</td>\n",
       "      <td>1</td>\n",
       "      <td>1</td>\n",
       "      <td>0</td>\n",
       "      <td>0</td>\n",
       "    </tr>\n",
       "    <tr>\n",
       "      <th>1</th>\n",
       "      <td>3275</td>\n",
       "      <td>2000.0</td>\n",
       "      <td>4.2</td>\n",
       "      <td>0</td>\n",
       "      <td>0</td>\n",
       "      <td>0</td>\n",
       "      <td>0</td>\n",
       "      <td>0</td>\n",
       "      <td>0</td>\n",
       "      <td>1</td>\n",
       "      <td>1</td>\n",
       "      <td>1</td>\n",
       "      <td>1</td>\n",
       "      <td>0</td>\n",
       "      <td>0</td>\n",
       "      <td>0</td>\n",
       "      <td>0</td>\n",
       "    </tr>\n",
       "    <tr>\n",
       "      <th>2</th>\n",
       "      <td>3285</td>\n",
       "      <td>2000.0</td>\n",
       "      <td>3.1</td>\n",
       "      <td>1</td>\n",
       "      <td>0</td>\n",
       "      <td>0</td>\n",
       "      <td>0</td>\n",
       "      <td>0</td>\n",
       "      <td>0</td>\n",
       "      <td>1</td>\n",
       "      <td>0</td>\n",
       "      <td>0</td>\n",
       "      <td>0</td>\n",
       "      <td>0</td>\n",
       "      <td>0</td>\n",
       "      <td>0</td>\n",
       "      <td>0</td>\n",
       "    </tr>\n",
       "    <tr>\n",
       "      <th>3</th>\n",
       "      <td>3298</td>\n",
       "      <td>2000.0</td>\n",
       "      <td>3.7</td>\n",
       "      <td>0</td>\n",
       "      <td>0</td>\n",
       "      <td>0</td>\n",
       "      <td>0</td>\n",
       "      <td>0</td>\n",
       "      <td>0</td>\n",
       "      <td>1</td>\n",
       "      <td>0</td>\n",
       "      <td>1</td>\n",
       "      <td>1</td>\n",
       "      <td>0</td>\n",
       "      <td>0</td>\n",
       "      <td>0</td>\n",
       "      <td>0</td>\n",
       "    </tr>\n",
       "    <tr>\n",
       "      <th>4</th>\n",
       "      <td>3300</td>\n",
       "      <td>2000.0</td>\n",
       "      <td>3.6</td>\n",
       "      <td>0</td>\n",
       "      <td>0</td>\n",
       "      <td>0</td>\n",
       "      <td>0</td>\n",
       "      <td>0</td>\n",
       "      <td>0</td>\n",
       "      <td>0</td>\n",
       "      <td>0</td>\n",
       "      <td>0</td>\n",
       "      <td>1</td>\n",
       "      <td>1</td>\n",
       "      <td>0</td>\n",
       "      <td>1</td>\n",
       "      <td>0</td>\n",
       "    </tr>\n",
       "  </tbody>\n",
       "</table>\n",
       "</div>"
      ],
      "text/plain": [
       "   movieId    year  ave_rating  Adventure  Animation  Children  Comedy  Fantasy  Romance  Drama  Action  Crime  Thriller  Horror  Mystery  Sci-Fi  Documentary\n",
       "0     3273  2000.0         2.7          0          0         0       1        0        0      0       0      0         1       1        1       0            0\n",
       "1     3275  2000.0         4.2          0          0         0       0        0        0      1       1      1         1       0        0       0            0\n",
       "2     3285  2000.0         3.1          1          0         0       0        0        0      1       0      0         0       0        0       0            0\n",
       "3     3298  2000.0         3.7          0          0         0       0        0        0      1       0      1         1       0        0       0            0\n",
       "4     3300  2000.0         3.6          0          0         0       0        0        0      0       0      0         1       1        0       1            0"
      ]
     },
     "execution_count": 79,
     "metadata": {},
     "output_type": "execute_result"
    }
   ],
   "source": [
    "item_train.head()"
   ]
  },
  {
   "cell_type": "code",
   "execution_count": 80,
   "id": "7622293d",
   "metadata": {},
   "outputs": [
    {
     "name": "stdout",
     "output_type": "stream",
     "text": [
      "(442, 17)\n",
      "(482, 17)\n"
     ]
    }
   ],
   "source": [
    "print(user_train.shape)\n",
    "print(item_train.shape)"
   ]
  },
  {
   "cell_type": "code",
   "execution_count": 81,
   "id": "46ea9d63",
   "metadata": {},
   "outputs": [
    {
     "name": "stdout",
     "output_type": "stream",
     "text": [
      "17\n",
      "17\n"
     ]
    }
   ],
   "source": [
    "print(user_train.shape[1])\n",
    "print(item_train.shape[1])"
   ]
  },
  {
   "cell_type": "code",
   "execution_count": 82,
   "id": "d35922b0",
   "metadata": {},
   "outputs": [
    {
     "name": "stdout",
     "output_type": "stream",
     "text": [
      "(22863, 7)\n",
      "(442, 17)\n",
      "(482, 17)\n"
     ]
    }
   ],
   "source": [
    "print(df.shape)\n",
    "print(user_train.shape)\n",
    "print(item_train.shape)"
   ]
  },
  {
   "cell_type": "code",
   "execution_count": 83,
   "id": "204e9feb",
   "metadata": {},
   "outputs": [],
   "source": [
    "movie_ids_sorted = df[\"movieId\"].values\n",
    "user_ids_sorted = df[\"userId\"].values"
   ]
  },
  {
   "cell_type": "markdown",
   "id": "24b99718",
   "metadata": {},
   "source": [
    "### duplicating item df"
   ]
  },
  {
   "cell_type": "code",
   "execution_count": 85,
   "id": "1c9f2fa8",
   "metadata": {},
   "outputs": [],
   "source": [
    "count = 0\n",
    "duplicated_item_train = pd.DataFrame()\n",
    "for i in movie_ids_sorted:\n",
    "    count += 1\n",
    "    duplicated_item_train = pd.concat([duplicated_item_train, item_train.loc[item_train[\"movieId\"] == i, :]], axis = 0)"
   ]
  },
  {
   "cell_type": "code",
   "execution_count": 86,
   "id": "35e6e727",
   "metadata": {},
   "outputs": [
    {
     "data": {
      "text/plain": [
       "(22863, 17)"
      ]
     },
     "execution_count": 86,
     "metadata": {},
     "output_type": "execute_result"
    }
   ],
   "source": [
    "duplicated_item_train.shape"
   ]
  },
  {
   "cell_type": "markdown",
   "id": "12315142",
   "metadata": {},
   "source": [
    "### duplicating user df"
   ]
  },
  {
   "cell_type": "code",
   "execution_count": 87,
   "id": "9d7ab796",
   "metadata": {},
   "outputs": [],
   "source": [
    "count = 0\n",
    "duplicated_user_train = pd.DataFrame()\n",
    "for i in user_ids_sorted:\n",
    "    count += 1\n",
    "    duplicated_user_train = pd.concat([duplicated_user_train, user_train.loc[user_train[\"userId\"] == i, :]], axis = 0)"
   ]
  },
  {
   "cell_type": "code",
   "execution_count": 88,
   "id": "bb0fd0f3",
   "metadata": {},
   "outputs": [
    {
     "data": {
      "text/html": [
       "<div>\n",
       "<style scoped>\n",
       "    .dataframe tbody tr th:only-of-type {\n",
       "        vertical-align: middle;\n",
       "    }\n",
       "\n",
       "    .dataframe tbody tr th {\n",
       "        vertical-align: top;\n",
       "    }\n",
       "\n",
       "    .dataframe thead th {\n",
       "        text-align: right;\n",
       "    }\n",
       "</style>\n",
       "<table border=\"1\" class=\"dataframe\">\n",
       "  <thead>\n",
       "    <tr style=\"text-align: right;\">\n",
       "      <th></th>\n",
       "      <th>userId</th>\n",
       "      <th>movie_count</th>\n",
       "      <th>rating_ave</th>\n",
       "      <th>Adventure</th>\n",
       "      <th>Animation</th>\n",
       "      <th>Children</th>\n",
       "      <th>Comedy</th>\n",
       "      <th>Fantasy</th>\n",
       "      <th>Romance</th>\n",
       "      <th>Drama</th>\n",
       "      <th>Action</th>\n",
       "      <th>Crime</th>\n",
       "      <th>Thriller</th>\n",
       "      <th>Horror</th>\n",
       "      <th>Mystery</th>\n",
       "      <th>Sci-Fi</th>\n",
       "      <th>Documentary</th>\n",
       "    </tr>\n",
       "  </thead>\n",
       "  <tbody>\n",
       "    <tr>\n",
       "      <th>0</th>\n",
       "      <td>1</td>\n",
       "      <td>4</td>\n",
       "      <td>4.8</td>\n",
       "      <td>5.0</td>\n",
       "      <td>0.0</td>\n",
       "      <td>0.0</td>\n",
       "      <td>4.5</td>\n",
       "      <td>0.0</td>\n",
       "      <td>0.0</td>\n",
       "      <td>5.0</td>\n",
       "      <td>5.0</td>\n",
       "      <td>0.0</td>\n",
       "      <td>5.0</td>\n",
       "      <td>5.0</td>\n",
       "      <td>5.0</td>\n",
       "      <td>5.0</td>\n",
       "      <td>0.0</td>\n",
       "    </tr>\n",
       "    <tr>\n",
       "      <th>13</th>\n",
       "      <td>19</td>\n",
       "      <td>21</td>\n",
       "      <td>2.4</td>\n",
       "      <td>3.2</td>\n",
       "      <td>3.5</td>\n",
       "      <td>3.5</td>\n",
       "      <td>2.3</td>\n",
       "      <td>0.0</td>\n",
       "      <td>2.3</td>\n",
       "      <td>2.4</td>\n",
       "      <td>3.0</td>\n",
       "      <td>2.0</td>\n",
       "      <td>2.1</td>\n",
       "      <td>1.8</td>\n",
       "      <td>2.0</td>\n",
       "      <td>3.0</td>\n",
       "      <td>0.0</td>\n",
       "    </tr>\n",
       "    <tr>\n",
       "      <th>29</th>\n",
       "      <td>45</td>\n",
       "      <td>70</td>\n",
       "      <td>4.5</td>\n",
       "      <td>4.5</td>\n",
       "      <td>4.7</td>\n",
       "      <td>4.6</td>\n",
       "      <td>4.4</td>\n",
       "      <td>4.4</td>\n",
       "      <td>4.5</td>\n",
       "      <td>4.3</td>\n",
       "      <td>4.6</td>\n",
       "      <td>4.7</td>\n",
       "      <td>4.5</td>\n",
       "      <td>4.7</td>\n",
       "      <td>4.6</td>\n",
       "      <td>4.5</td>\n",
       "      <td>0.0</td>\n",
       "    </tr>\n",
       "    <tr>\n",
       "      <th>43</th>\n",
       "      <td>64</td>\n",
       "      <td>143</td>\n",
       "      <td>3.7</td>\n",
       "      <td>3.8</td>\n",
       "      <td>4.1</td>\n",
       "      <td>3.9</td>\n",
       "      <td>3.6</td>\n",
       "      <td>4.0</td>\n",
       "      <td>3.6</td>\n",
       "      <td>3.7</td>\n",
       "      <td>3.7</td>\n",
       "      <td>3.6</td>\n",
       "      <td>3.7</td>\n",
       "      <td>3.6</td>\n",
       "      <td>3.7</td>\n",
       "      <td>3.4</td>\n",
       "      <td>3.8</td>\n",
       "    </tr>\n",
       "    <tr>\n",
       "      <th>47</th>\n",
       "      <td>68</td>\n",
       "      <td>382</td>\n",
       "      <td>3.5</td>\n",
       "      <td>3.7</td>\n",
       "      <td>3.6</td>\n",
       "      <td>3.8</td>\n",
       "      <td>3.5</td>\n",
       "      <td>3.9</td>\n",
       "      <td>3.6</td>\n",
       "      <td>3.5</td>\n",
       "      <td>3.6</td>\n",
       "      <td>3.4</td>\n",
       "      <td>3.4</td>\n",
       "      <td>3.3</td>\n",
       "      <td>3.2</td>\n",
       "      <td>3.6</td>\n",
       "      <td>3.7</td>\n",
       "    </tr>\n",
       "  </tbody>\n",
       "</table>\n",
       "</div>"
      ],
      "text/plain": [
       "    userId  movie_count  rating_ave  Adventure  Animation  Children  Comedy  Fantasy  Romance  Drama  Action  Crime  Thriller  Horror  Mystery  Sci-Fi  Documentary\n",
       "0        1            4         4.8        5.0        0.0       0.0     4.5      0.0      0.0    5.0     5.0    0.0       5.0     5.0      5.0     5.0          0.0\n",
       "13      19           21         2.4        3.2        3.5       3.5     2.3      0.0      2.3    2.4     3.0    2.0       2.1     1.8      2.0     3.0          0.0\n",
       "29      45           70         4.5        4.5        4.7       4.6     4.4      4.4      4.5    4.3     4.6    4.7       4.5     4.7      4.6     4.5          0.0\n",
       "43      64          143         3.7        3.8        4.1       3.9     3.6      4.0      3.6    3.7     3.7    3.6       3.7     3.6      3.7     3.4          3.8\n",
       "47      68          382         3.5        3.7        3.6       3.8     3.5      3.9      3.6    3.5     3.6    3.4       3.4     3.3      3.2     3.6          3.7"
      ]
     },
     "execution_count": 88,
     "metadata": {},
     "output_type": "execute_result"
    }
   ],
   "source": [
    "duplicated_user_train.head()"
   ]
  },
  {
   "cell_type": "code",
   "execution_count": 89,
   "id": "cc205d99",
   "metadata": {
    "scrolled": true
   },
   "outputs": [
    {
     "data": {
      "text/html": [
       "<div>\n",
       "<style scoped>\n",
       "    .dataframe tbody tr th:only-of-type {\n",
       "        vertical-align: middle;\n",
       "    }\n",
       "\n",
       "    .dataframe tbody tr th {\n",
       "        vertical-align: top;\n",
       "    }\n",
       "\n",
       "    .dataframe thead th {\n",
       "        text-align: right;\n",
       "    }\n",
       "</style>\n",
       "<table border=\"1\" class=\"dataframe\">\n",
       "  <thead>\n",
       "    <tr style=\"text-align: right;\">\n",
       "      <th></th>\n",
       "      <th>movieId</th>\n",
       "      <th>year</th>\n",
       "      <th>ave_rating</th>\n",
       "      <th>Adventure</th>\n",
       "      <th>Animation</th>\n",
       "      <th>Children</th>\n",
       "      <th>Comedy</th>\n",
       "      <th>Fantasy</th>\n",
       "      <th>Romance</th>\n",
       "      <th>Drama</th>\n",
       "      <th>Action</th>\n",
       "      <th>Crime</th>\n",
       "      <th>Thriller</th>\n",
       "      <th>Horror</th>\n",
       "      <th>Mystery</th>\n",
       "      <th>Sci-Fi</th>\n",
       "      <th>Documentary</th>\n",
       "    </tr>\n",
       "  </thead>\n",
       "  <tbody>\n",
       "    <tr>\n",
       "      <th>0</th>\n",
       "      <td>3273</td>\n",
       "      <td>2000.0</td>\n",
       "      <td>2.7</td>\n",
       "      <td>0</td>\n",
       "      <td>0</td>\n",
       "      <td>0</td>\n",
       "      <td>1</td>\n",
       "      <td>0</td>\n",
       "      <td>0</td>\n",
       "      <td>0</td>\n",
       "      <td>0</td>\n",
       "      <td>0</td>\n",
       "      <td>1</td>\n",
       "      <td>1</td>\n",
       "      <td>1</td>\n",
       "      <td>0</td>\n",
       "      <td>0</td>\n",
       "    </tr>\n",
       "    <tr>\n",
       "      <th>0</th>\n",
       "      <td>3273</td>\n",
       "      <td>2000.0</td>\n",
       "      <td>2.7</td>\n",
       "      <td>0</td>\n",
       "      <td>0</td>\n",
       "      <td>0</td>\n",
       "      <td>1</td>\n",
       "      <td>0</td>\n",
       "      <td>0</td>\n",
       "      <td>0</td>\n",
       "      <td>0</td>\n",
       "      <td>0</td>\n",
       "      <td>1</td>\n",
       "      <td>1</td>\n",
       "      <td>1</td>\n",
       "      <td>0</td>\n",
       "      <td>0</td>\n",
       "    </tr>\n",
       "    <tr>\n",
       "      <th>0</th>\n",
       "      <td>3273</td>\n",
       "      <td>2000.0</td>\n",
       "      <td>2.7</td>\n",
       "      <td>0</td>\n",
       "      <td>0</td>\n",
       "      <td>0</td>\n",
       "      <td>1</td>\n",
       "      <td>0</td>\n",
       "      <td>0</td>\n",
       "      <td>0</td>\n",
       "      <td>0</td>\n",
       "      <td>0</td>\n",
       "      <td>1</td>\n",
       "      <td>1</td>\n",
       "      <td>1</td>\n",
       "      <td>0</td>\n",
       "      <td>0</td>\n",
       "    </tr>\n",
       "    <tr>\n",
       "      <th>0</th>\n",
       "      <td>3273</td>\n",
       "      <td>2000.0</td>\n",
       "      <td>2.7</td>\n",
       "      <td>0</td>\n",
       "      <td>0</td>\n",
       "      <td>0</td>\n",
       "      <td>1</td>\n",
       "      <td>0</td>\n",
       "      <td>0</td>\n",
       "      <td>0</td>\n",
       "      <td>0</td>\n",
       "      <td>0</td>\n",
       "      <td>1</td>\n",
       "      <td>1</td>\n",
       "      <td>1</td>\n",
       "      <td>0</td>\n",
       "      <td>0</td>\n",
       "    </tr>\n",
       "    <tr>\n",
       "      <th>0</th>\n",
       "      <td>3273</td>\n",
       "      <td>2000.0</td>\n",
       "      <td>2.7</td>\n",
       "      <td>0</td>\n",
       "      <td>0</td>\n",
       "      <td>0</td>\n",
       "      <td>1</td>\n",
       "      <td>0</td>\n",
       "      <td>0</td>\n",
       "      <td>0</td>\n",
       "      <td>0</td>\n",
       "      <td>0</td>\n",
       "      <td>1</td>\n",
       "      <td>1</td>\n",
       "      <td>1</td>\n",
       "      <td>0</td>\n",
       "      <td>0</td>\n",
       "    </tr>\n",
       "  </tbody>\n",
       "</table>\n",
       "</div>"
      ],
      "text/plain": [
       "   movieId    year  ave_rating  Adventure  Animation  Children  Comedy  Fantasy  Romance  Drama  Action  Crime  Thriller  Horror  Mystery  Sci-Fi  Documentary\n",
       "0     3273  2000.0         2.7          0          0         0       1        0        0      0       0      0         1       1        1       0            0\n",
       "0     3273  2000.0         2.7          0          0         0       1        0        0      0       0      0         1       1        1       0            0\n",
       "0     3273  2000.0         2.7          0          0         0       1        0        0      0       0      0         1       1        1       0            0\n",
       "0     3273  2000.0         2.7          0          0         0       1        0        0      0       0      0         1       1        1       0            0\n",
       "0     3273  2000.0         2.7          0          0         0       1        0        0      0       0      0         1       1        1       0            0"
      ]
     },
     "execution_count": 89,
     "metadata": {},
     "output_type": "execute_result"
    }
   ],
   "source": [
    "duplicated_item_train.head()"
   ]
  },
  {
   "cell_type": "code",
   "execution_count": 90,
   "id": "099d5ee7",
   "metadata": {},
   "outputs": [],
   "source": [
    "user_train = duplicated_user_train.copy()\n",
    "item_train = duplicated_item_train.copy()"
   ]
  },
  {
   "cell_type": "code",
   "execution_count": 91,
   "id": "2a7869df",
   "metadata": {},
   "outputs": [
    {
     "name": "stdout",
     "output_type": "stream",
     "text": [
      "(22863, 17)\n",
      "(22863, 17)\n"
     ]
    }
   ],
   "source": [
    "print(user_train.shape)\n",
    "print(item_train.shape)"
   ]
  },
  {
   "cell_type": "code",
   "execution_count": 92,
   "id": "5bcf6a8f",
   "metadata": {
    "scrolled": true
   },
   "outputs": [
    {
     "data": {
      "text/plain": [
       "Index(['userId', 'movie_count', 'rating_ave', 'Adventure', 'Animation', 'Children', 'Comedy', 'Fantasy', 'Romance', 'Drama', 'Action', 'Crime', 'Thriller', 'Horror', 'Mystery', 'Sci-Fi', 'Documentary'], dtype='object')"
      ]
     },
     "execution_count": 92,
     "metadata": {},
     "output_type": "execute_result"
    }
   ],
   "source": [
    "user_train.columns"
   ]
  },
  {
   "cell_type": "code",
   "execution_count": 93,
   "id": "85aeffbc",
   "metadata": {},
   "outputs": [],
   "source": [
    "item_train = item_train[['movieId', 'year', 'ave_rating', \"Action\",\"Adventure\",\"Animation\",\"Children\",\"Comedy\",\"Crime\",\"Documentary\",\"Drama\",\"Fantasy\",\"Horror\",\"Mystery\",\"Romance\",\"Sci-Fi\",\"Thriller\"]]"
   ]
  },
  {
   "cell_type": "code",
   "execution_count": 94,
   "id": "0b14a1f8",
   "metadata": {},
   "outputs": [],
   "source": [
    "user_train = user_train[['userId', 'movie_count', 'rating_ave', \"Action\",\"Adventure\",\"Animation\",\"Children\",\"Comedy\",\"Crime\",\"Documentary\",\"Drama\",\"Fantasy\",\"Horror\",\"Mystery\",\"Romance\",\"Sci-Fi\",\"Thriller\"]]"
   ]
  },
  {
   "cell_type": "code",
   "execution_count": 95,
   "id": "db1c0af1",
   "metadata": {},
   "outputs": [
    {
     "data": {
      "text/html": [
       "<div>\n",
       "<style scoped>\n",
       "    .dataframe tbody tr th:only-of-type {\n",
       "        vertical-align: middle;\n",
       "    }\n",
       "\n",
       "    .dataframe tbody tr th {\n",
       "        vertical-align: top;\n",
       "    }\n",
       "\n",
       "    .dataframe thead th {\n",
       "        text-align: right;\n",
       "    }\n",
       "</style>\n",
       "<table border=\"1\" class=\"dataframe\">\n",
       "  <thead>\n",
       "    <tr style=\"text-align: right;\">\n",
       "      <th></th>\n",
       "      <th>movieId</th>\n",
       "      <th>title</th>\n",
       "      <th>genres</th>\n",
       "      <th>year</th>\n",
       "      <th>userId</th>\n",
       "      <th>rating</th>\n",
       "      <th>timestamp</th>\n",
       "    </tr>\n",
       "  </thead>\n",
       "  <tbody>\n",
       "    <tr>\n",
       "      <th>53190</th>\n",
       "      <td>3273</td>\n",
       "      <td>Scream 3 (2000)</td>\n",
       "      <td>Comedy|Horror|Mystery|Thriller</td>\n",
       "      <td>2000</td>\n",
       "      <td>1</td>\n",
       "      <td>5.0</td>\n",
       "      <td>964983536</td>\n",
       "    </tr>\n",
       "    <tr>\n",
       "      <th>53191</th>\n",
       "      <td>3273</td>\n",
       "      <td>Scream 3 (2000)</td>\n",
       "      <td>Comedy|Horror|Mystery|Thriller</td>\n",
       "      <td>2000</td>\n",
       "      <td>19</td>\n",
       "      <td>2.0</td>\n",
       "      <td>965703084</td>\n",
       "    </tr>\n",
       "    <tr>\n",
       "      <th>53192</th>\n",
       "      <td>3273</td>\n",
       "      <td>Scream 3 (2000)</td>\n",
       "      <td>Comedy|Horror|Mystery|Thriller</td>\n",
       "      <td>2000</td>\n",
       "      <td>45</td>\n",
       "      <td>4.0</td>\n",
       "      <td>1007995150</td>\n",
       "    </tr>\n",
       "    <tr>\n",
       "      <th>53193</th>\n",
       "      <td>3273</td>\n",
       "      <td>Scream 3 (2000)</td>\n",
       "      <td>Comedy|Horror|Mystery|Thriller</td>\n",
       "      <td>2000</td>\n",
       "      <td>64</td>\n",
       "      <td>2.0</td>\n",
       "      <td>1161620569</td>\n",
       "    </tr>\n",
       "    <tr>\n",
       "      <th>53194</th>\n",
       "      <td>3273</td>\n",
       "      <td>Scream 3 (2000)</td>\n",
       "      <td>Comedy|Horror|Mystery|Thriller</td>\n",
       "      <td>2000</td>\n",
       "      <td>68</td>\n",
       "      <td>2.0</td>\n",
       "      <td>1158535390</td>\n",
       "    </tr>\n",
       "  </tbody>\n",
       "</table>\n",
       "</div>"
      ],
      "text/plain": [
       "       movieId            title                          genres  year  userId  rating   timestamp\n",
       "53190     3273  Scream 3 (2000)  Comedy|Horror|Mystery|Thriller  2000       1     5.0   964983536\n",
       "53191     3273  Scream 3 (2000)  Comedy|Horror|Mystery|Thriller  2000      19     2.0   965703084\n",
       "53192     3273  Scream 3 (2000)  Comedy|Horror|Mystery|Thriller  2000      45     4.0  1007995150\n",
       "53193     3273  Scream 3 (2000)  Comedy|Horror|Mystery|Thriller  2000      64     2.0  1161620569\n",
       "53194     3273  Scream 3 (2000)  Comedy|Horror|Mystery|Thriller  2000      68     2.0  1158535390"
      ]
     },
     "execution_count": 95,
     "metadata": {},
     "output_type": "execute_result"
    }
   ],
   "source": [
    "df.head()"
   ]
  },
  {
   "cell_type": "code",
   "execution_count": 96,
   "id": "8deb4b9f",
   "metadata": {},
   "outputs": [
    {
     "data": {
      "text/plain": [
       "array([5. , 2. , 4. , ..., 5. , 3.5, 5. ])"
      ]
     },
     "execution_count": 96,
     "metadata": {},
     "output_type": "execute_result"
    }
   ],
   "source": [
    "df.rating.values"
   ]
  },
  {
   "cell_type": "code",
   "execution_count": 97,
   "id": "46635c5d",
   "metadata": {},
   "outputs": [],
   "source": [
    "y_train = df.rating.values"
   ]
  },
  {
   "cell_type": "code",
   "execution_count": 98,
   "id": "2e9621a2",
   "metadata": {},
   "outputs": [
    {
     "data": {
      "text/plain": [
       "(22863,)"
      ]
     },
     "execution_count": 98,
     "metadata": {},
     "output_type": "execute_result"
    }
   ],
   "source": [
    "y_train.shape"
   ]
  },
  {
   "cell_type": "markdown",
   "id": "e9bc3cc1",
   "metadata": {},
   "source": [
    "# modeling section"
   ]
  },
  {
   "cell_type": "code",
   "execution_count": 99,
   "id": "e81e612e",
   "metadata": {},
   "outputs": [
    {
     "name": "stdout",
     "output_type": "stream",
     "text": [
      "14\n",
      "16\n"
     ]
    }
   ],
   "source": [
    "num_user_features = user_train.shape[1] - 3  # remove userid, rating count and ave rating during training\n",
    "num_item_features = item_train.shape[1] - 1  # remove movie id at train time\n",
    "#uvs = 3  # user genre vector start\n",
    "#ivs = 3  # item genre vector start\n",
    "u_s = 3  # start of columns to use in training, user\n",
    "i_s = 1  # start of columns to use in training, items\n",
    "\n",
    "print(num_user_features)\n",
    "print(num_item_features)"
   ]
  },
  {
   "cell_type": "code",
   "execution_count": 100,
   "id": "2633e2ef",
   "metadata": {},
   "outputs": [],
   "source": [
    "item_train_unscaled = item_train\n",
    "user_train_unscaled = user_train\n",
    "y_train_unscaled    = y_train"
   ]
  },
  {
   "cell_type": "code",
   "execution_count": 101,
   "id": "5bc96d60",
   "metadata": {},
   "outputs": [
    {
     "data": {
      "text/plain": [
       "Action         0\n",
       "Adventure      0\n",
       "Animation      0\n",
       "Children       0\n",
       "Comedy         0\n",
       "Crime          0\n",
       "Documentary    0\n",
       "Drama          0\n",
       "Fantasy        0\n",
       "Horror         0\n",
       "Mystery        0\n",
       "Romance        0\n",
       "Sci-Fi         0\n",
       "Thriller       0\n",
       "dtype: int64"
      ]
     },
     "execution_count": 101,
     "metadata": {},
     "output_type": "execute_result"
    }
   ],
   "source": [
    "user_train.iloc[:, u_s:].isnull().sum()"
   ]
  },
  {
   "cell_type": "code",
   "execution_count": 102,
   "id": "05d74c2f",
   "metadata": {},
   "outputs": [
    {
     "data": {
      "text/plain": [
       "year           0\n",
       "ave_rating     0\n",
       "Action         0\n",
       "Adventure      0\n",
       "Animation      0\n",
       "Children       0\n",
       "Comedy         0\n",
       "Crime          0\n",
       "Documentary    0\n",
       "Drama          0\n",
       "Fantasy        0\n",
       "Horror         0\n",
       "Mystery        0\n",
       "Romance        0\n",
       "Sci-Fi         0\n",
       "Thriller       0\n",
       "dtype: int64"
      ]
     },
     "execution_count": 102,
     "metadata": {},
     "output_type": "execute_result"
    }
   ],
   "source": [
    "item_train.iloc[:, i_s:].isnull().sum()"
   ]
  },
  {
   "cell_type": "markdown",
   "id": "162375c2",
   "metadata": {},
   "source": [
    "# data frame'leri 2d array'e çevir"
   ]
  },
  {
   "cell_type": "code",
   "execution_count": 103,
   "id": "13bac5d3",
   "metadata": {},
   "outputs": [],
   "source": [
    "item_train = item_train.to_numpy()\n",
    "user_train = user_train.to_numpy()"
   ]
  },
  {
   "cell_type": "code",
   "execution_count": 104,
   "id": "5eab2e09",
   "metadata": {},
   "outputs": [],
   "source": [
    "scalerItem = StandardScaler()\n",
    "scalerItem.fit(item_train[:, i_s:])\n",
    "item_train[:, i_s:] = scalerItem.transform(item_train[:, i_s:])\n",
    "\n",
    "scalerUser = StandardScaler()\n",
    "scalerUser.fit(user_train[:, u_s:])\n",
    "user_train[:, u_s:] = scalerUser.transform(user_train[:, u_s:])"
   ]
  },
  {
   "cell_type": "code",
   "execution_count": 105,
   "id": "7c1b37b8",
   "metadata": {},
   "outputs": [],
   "source": [
    "scalerTarget = MinMaxScaler((-1, 1))\n",
    "scalerTarget.fit(y_train.reshape(-1, 1))\n",
    "y_train = scalerTarget.transform(y_train.reshape(-1, 1))"
   ]
  },
  {
   "cell_type": "code",
   "execution_count": 106,
   "id": "6626e10f",
   "metadata": {},
   "outputs": [
    {
     "name": "stdout",
     "output_type": "stream",
     "text": [
      "movie/item training data shape: (18290, 17)\n",
      "movie/item test data shape: (4573, 17)\n"
     ]
    }
   ],
   "source": [
    "item_train, item_test = train_test_split(item_train, train_size=0.80, shuffle=True, random_state=1)\n",
    "user_train, user_test = train_test_split(user_train, train_size=0.80, shuffle=True, random_state=1)\n",
    "y_train, y_test       = train_test_split(y_train,    train_size=0.80, shuffle=True, random_state=1)\n",
    "print(f\"movie/item training data shape: {item_train.shape}\")\n",
    "print(f\"movie/item test data shape: {item_test.shape}\")"
   ]
  },
  {
   "cell_type": "markdown",
   "id": "51c6db00",
   "metadata": {},
   "source": [
    "### create 2 neural networks (one of them is for items/movies, the other one is for the users), both with 3 layers. you feed the dataframes you prepared above to these neural networks. In return, they calculate the feature vectors for movies (Vm) and users (Vu). using these feature vectors, we make predictions. Vm*Vu gives you the rating of a user for that movie. "
   ]
  },
  {
   "cell_type": "code",
   "execution_count": 107,
   "id": "a3658f80",
   "metadata": {},
   "outputs": [
    {
     "name": "stdout",
     "output_type": "stream",
     "text": [
      "Model: \"model\"\n",
      "__________________________________________________________________________________________________\n",
      " Layer (type)                   Output Shape         Param #     Connected to                     \n",
      "==================================================================================================\n",
      " input_1 (InputLayer)           [(None, 14)]         0           []                               \n",
      "                                                                                                  \n",
      " input_2 (InputLayer)           [(None, 16)]         0           []                               \n",
      "                                                                                                  \n",
      " sequential (Sequential)        (None, 32)           40864       ['input_1[0][0]']                \n",
      "                                                                                                  \n",
      " sequential_1 (Sequential)      (None, 32)           41376       ['input_2[0][0]']                \n",
      "                                                                                                  \n",
      " tf.math.l2_normalize (TFOpLamb  (None, 32)          0           ['sequential[0][0]']             \n",
      " da)                                                                                              \n",
      "                                                                                                  \n",
      " tf.math.l2_normalize_1 (TFOpLa  (None, 32)          0           ['sequential_1[0][0]']           \n",
      " mbda)                                                                                            \n",
      "                                                                                                  \n",
      " dot (Dot)                      (None, 1)            0           ['tf.math.l2_normalize[0][0]',   \n",
      "                                                                  'tf.math.l2_normalize_1[0][0]'] \n",
      "                                                                                                  \n",
      "==================================================================================================\n",
      "Total params: 82,240\n",
      "Trainable params: 82,240\n",
      "Non-trainable params: 0\n",
      "__________________________________________________________________________________________________\n"
     ]
    }
   ],
   "source": [
    "num_outputs = 32\n",
    "tf.random.set_seed(1)\n",
    "\n",
    "user_NN = tf.keras.models.Sequential([\n",
    "    tf.keras.layers.Dense(256, activation='relu'),\n",
    "    tf.keras.layers.Dense(128, activation='relu'),\n",
    "    tf.keras.layers.Dense(num_outputs)\n",
    "])\n",
    "\n",
    "item_NN = tf.keras.models.Sequential([  \n",
    "      tf.keras.layers.Dense(256, activation='relu'),\n",
    "      tf.keras.layers.Dense(128, activation='relu'),\n",
    "      tf.keras.layers.Dense(num_outputs)\n",
    "])\n",
    "\n",
    "# create the user input and point to the base network\n",
    "input_user = tf.keras.layers.Input(shape=(num_user_features))\n",
    "vu = user_NN(input_user)\n",
    "vu = tf.linalg.l2_normalize(vu, axis=1)\n",
    "\n",
    "# create the item input and point to the base network\n",
    "input_item = tf.keras.layers.Input(shape=(num_item_features))\n",
    "vm = item_NN(input_item)\n",
    "vm = tf.linalg.l2_normalize(vm, axis=1)\n",
    "\n",
    "# compute the dot product of the two vectors vu and vm\n",
    "output = tf.keras.layers.Dot(axes=1)([vu, vm])\n",
    "\n",
    "# specify the inputs and output of the model\n",
    "model = tf.keras.Model([input_user, input_item], output)\n",
    "\n",
    "model.summary()"
   ]
  },
  {
   "cell_type": "code",
   "execution_count": 108,
   "id": "e1319036",
   "metadata": {},
   "outputs": [],
   "source": [
    "tf.random.set_seed(1)\n",
    "cost_fn = tf.keras.losses.MeanSquaredError()\n",
    "opt = keras.optimizers.Adam(learning_rate=0.01)\n",
    "model.compile(optimizer=opt,\n",
    "              loss=cost_fn)"
   ]
  },
  {
   "cell_type": "code",
   "execution_count": 109,
   "id": "04f4ae3a",
   "metadata": {},
   "outputs": [
    {
     "name": "stdout",
     "output_type": "stream",
     "text": [
      "Epoch 1/30\n",
      "572/572 [==============================] - 3s 3ms/step - loss: 0.1355\n",
      "Epoch 2/30\n",
      "572/572 [==============================] - 2s 3ms/step - loss: 0.1280\n",
      "Epoch 3/30\n",
      "572/572 [==============================] - 2s 3ms/step - loss: 0.1242\n",
      "Epoch 4/30\n",
      "572/572 [==============================] - 2s 4ms/step - loss: 0.1213\n",
      "Epoch 5/30\n",
      "572/572 [==============================] - 2s 4ms/step - loss: 0.1195\n",
      "Epoch 6/30\n",
      "572/572 [==============================] - 2s 4ms/step - loss: 0.1178\n",
      "Epoch 7/30\n",
      "572/572 [==============================] - 2s 3ms/step - loss: 0.1158\n",
      "Epoch 8/30\n",
      "572/572 [==============================] - 2s 4ms/step - loss: 0.1147\n",
      "Epoch 9/30\n",
      "572/572 [==============================] - 2s 4ms/step - loss: 0.1135\n",
      "Epoch 10/30\n",
      "572/572 [==============================] - 2s 3ms/step - loss: 0.1126\n",
      "Epoch 11/30\n",
      "572/572 [==============================] - 2s 3ms/step - loss: 0.1121\n",
      "Epoch 12/30\n",
      "572/572 [==============================] - 2s 3ms/step - loss: 0.1114\n",
      "Epoch 13/30\n",
      "572/572 [==============================] - 2s 3ms/step - loss: 0.1106\n",
      "Epoch 14/30\n",
      "572/572 [==============================] - 2s 3ms/step - loss: 0.1101\n",
      "Epoch 15/30\n",
      "572/572 [==============================] - 2s 3ms/step - loss: 0.1094\n",
      "Epoch 16/30\n",
      "572/572 [==============================] - 2s 3ms/step - loss: 0.1088\n",
      "Epoch 17/30\n",
      "572/572 [==============================] - 2s 3ms/step - loss: 0.1083\n",
      "Epoch 18/30\n",
      "572/572 [==============================] - 2s 4ms/step - loss: 0.1072\n",
      "Epoch 19/30\n",
      "572/572 [==============================] - 2s 3ms/step - loss: 0.1065\n",
      "Epoch 20/30\n",
      "572/572 [==============================] - 2s 3ms/step - loss: 0.1058\n",
      "Epoch 21/30\n",
      "572/572 [==============================] - 2s 3ms/step - loss: 0.1053\n",
      "Epoch 22/30\n",
      "572/572 [==============================] - 2s 3ms/step - loss: 0.1045\n",
      "Epoch 23/30\n",
      "572/572 [==============================] - 2s 3ms/step - loss: 0.1045\n",
      "Epoch 24/30\n",
      "572/572 [==============================] - 2s 3ms/step - loss: 0.1038\n",
      "Epoch 25/30\n",
      "572/572 [==============================] - 2s 3ms/step - loss: 0.1032\n",
      "Epoch 26/30\n",
      "572/572 [==============================] - 2s 3ms/step - loss: 0.1028\n",
      "Epoch 27/30\n",
      "572/572 [==============================] - 2s 3ms/step - loss: 0.1017\n",
      "Epoch 28/30\n",
      "572/572 [==============================] - 2s 3ms/step - loss: 0.1015\n",
      "Epoch 29/30\n",
      "572/572 [==============================] - 2s 3ms/step - loss: 0.1004\n",
      "Epoch 30/30\n",
      "572/572 [==============================] - 2s 3ms/step - loss: 0.0999\n"
     ]
    },
    {
     "data": {
      "text/plain": [
       "<keras.callbacks.History at 0x253b13ade20>"
      ]
     },
     "execution_count": 109,
     "metadata": {},
     "output_type": "execute_result"
    }
   ],
   "source": [
    "tf.random.set_seed(1)\n",
    "model.fit([tf.convert_to_tensor(user_train[:, u_s:], dtype=tf.float32), tf.convert_to_tensor(item_train[:, i_s:],dtype=tf.float32)], tf.convert_to_tensor(y_train, dtype=tf.float32), epochs=30)"
   ]
  },
  {
   "cell_type": "markdown",
   "id": "4dd24334",
   "metadata": {},
   "source": [
    "### model evaluation"
   ]
  },
  {
   "cell_type": "code",
   "execution_count": 110,
   "id": "5ab68fda",
   "metadata": {},
   "outputs": [
    {
     "name": "stdout",
     "output_type": "stream",
     "text": [
      "143/143 [==============================] - 1s 3ms/step - loss: 0.1104\n"
     ]
    },
    {
     "data": {
      "text/plain": [
       "0.11040615290403366"
      ]
     },
     "execution_count": 110,
     "metadata": {},
     "output_type": "execute_result"
    }
   ],
   "source": [
    "model.evaluate([tf.convert_to_tensor(user_test[:, u_s:], dtype=tf.float32), tf.convert_to_tensor(item_test[:, i_s:],dtype=tf.float32)], tf.convert_to_tensor(y_test, dtype=tf.float32))"
   ]
  },
  {
   "cell_type": "markdown",
   "id": "6c920e23",
   "metadata": {},
   "source": [
    "### prediction"
   ]
  },
  {
   "cell_type": "code",
   "execution_count": 111,
   "id": "2e23227c",
   "metadata": {},
   "outputs": [],
   "source": [
    "new_user_id = 5000\n",
    "new_rating_ave = 0.0\n",
    "new_action = 0.0\n",
    "new_adventure = 5.0\n",
    "new_animation = 0.0\n",
    "new_childrens = 0.0\n",
    "new_comedy = 0.0\n",
    "new_crime = 0.0\n",
    "new_documentary = 0.0\n",
    "new_drama = 0.0\n",
    "new_fantasy = 5.0\n",
    "new_horror = 0.0\n",
    "new_mystery = 0.0\n",
    "new_romance = 0.0\n",
    "new_scifi = 0.0\n",
    "new_thriller = 0.0\n",
    "new_rating_count = 3\n",
    "\n",
    "user_vec = np.array([[new_user_id, new_rating_count,new_rating_ave, \n",
    "new_adventure,new_animation,new_childrens,new_comedy,\n",
    "new_fantasy,new_romance,new_drama,new_action,new_crime,\n",
    "new_thriller,new_horror,new_mystery,new_scifi,new_documentary]])"
   ]
  },
  {
   "cell_type": "code",
   "execution_count": 112,
   "id": "cac5a359",
   "metadata": {},
   "outputs": [],
   "source": [
    "item_train = duplicated_item_train.copy()"
   ]
  },
  {
   "cell_type": "code",
   "execution_count": 150,
   "id": "1800ca09",
   "metadata": {},
   "outputs": [
    {
     "data": {
      "text/html": [
       "<div>\n",
       "<style scoped>\n",
       "    .dataframe tbody tr th:only-of-type {\n",
       "        vertical-align: middle;\n",
       "    }\n",
       "\n",
       "    .dataframe tbody tr th {\n",
       "        vertical-align: top;\n",
       "    }\n",
       "\n",
       "    .dataframe thead th {\n",
       "        text-align: right;\n",
       "    }\n",
       "</style>\n",
       "<table border=\"1\" class=\"dataframe\">\n",
       "  <thead>\n",
       "    <tr style=\"text-align: right;\">\n",
       "      <th></th>\n",
       "      <th>movieId</th>\n",
       "      <th>year</th>\n",
       "      <th>ave_rating</th>\n",
       "      <th>Adventure</th>\n",
       "      <th>Animation</th>\n",
       "      <th>Children</th>\n",
       "      <th>Comedy</th>\n",
       "      <th>Fantasy</th>\n",
       "      <th>Romance</th>\n",
       "      <th>Drama</th>\n",
       "      <th>Action</th>\n",
       "      <th>Crime</th>\n",
       "      <th>Thriller</th>\n",
       "      <th>Horror</th>\n",
       "      <th>Mystery</th>\n",
       "      <th>Sci-Fi</th>\n",
       "      <th>Documentary</th>\n",
       "    </tr>\n",
       "  </thead>\n",
       "  <tbody>\n",
       "    <tr>\n",
       "      <th>0</th>\n",
       "      <td>3273</td>\n",
       "      <td>2000.0</td>\n",
       "      <td>2.7</td>\n",
       "      <td>0</td>\n",
       "      <td>0</td>\n",
       "      <td>0</td>\n",
       "      <td>1</td>\n",
       "      <td>0</td>\n",
       "      <td>0</td>\n",
       "      <td>0</td>\n",
       "      <td>0</td>\n",
       "      <td>0</td>\n",
       "      <td>1</td>\n",
       "      <td>1</td>\n",
       "      <td>1</td>\n",
       "      <td>0</td>\n",
       "      <td>0</td>\n",
       "    </tr>\n",
       "    <tr>\n",
       "      <th>1</th>\n",
       "      <td>3275</td>\n",
       "      <td>2000.0</td>\n",
       "      <td>4.2</td>\n",
       "      <td>0</td>\n",
       "      <td>0</td>\n",
       "      <td>0</td>\n",
       "      <td>0</td>\n",
       "      <td>0</td>\n",
       "      <td>0</td>\n",
       "      <td>1</td>\n",
       "      <td>1</td>\n",
       "      <td>1</td>\n",
       "      <td>1</td>\n",
       "      <td>0</td>\n",
       "      <td>0</td>\n",
       "      <td>0</td>\n",
       "      <td>0</td>\n",
       "    </tr>\n",
       "    <tr>\n",
       "      <th>2</th>\n",
       "      <td>3285</td>\n",
       "      <td>2000.0</td>\n",
       "      <td>3.1</td>\n",
       "      <td>1</td>\n",
       "      <td>0</td>\n",
       "      <td>0</td>\n",
       "      <td>0</td>\n",
       "      <td>0</td>\n",
       "      <td>0</td>\n",
       "      <td>1</td>\n",
       "      <td>0</td>\n",
       "      <td>0</td>\n",
       "      <td>0</td>\n",
       "      <td>0</td>\n",
       "      <td>0</td>\n",
       "      <td>0</td>\n",
       "      <td>0</td>\n",
       "    </tr>\n",
       "    <tr>\n",
       "      <th>3</th>\n",
       "      <td>3298</td>\n",
       "      <td>2000.0</td>\n",
       "      <td>3.7</td>\n",
       "      <td>0</td>\n",
       "      <td>0</td>\n",
       "      <td>0</td>\n",
       "      <td>0</td>\n",
       "      <td>0</td>\n",
       "      <td>0</td>\n",
       "      <td>1</td>\n",
       "      <td>0</td>\n",
       "      <td>1</td>\n",
       "      <td>1</td>\n",
       "      <td>0</td>\n",
       "      <td>0</td>\n",
       "      <td>0</td>\n",
       "      <td>0</td>\n",
       "    </tr>\n",
       "    <tr>\n",
       "      <th>4</th>\n",
       "      <td>3300</td>\n",
       "      <td>2000.0</td>\n",
       "      <td>3.6</td>\n",
       "      <td>0</td>\n",
       "      <td>0</td>\n",
       "      <td>0</td>\n",
       "      <td>0</td>\n",
       "      <td>0</td>\n",
       "      <td>0</td>\n",
       "      <td>0</td>\n",
       "      <td>0</td>\n",
       "      <td>0</td>\n",
       "      <td>1</td>\n",
       "      <td>1</td>\n",
       "      <td>0</td>\n",
       "      <td>1</td>\n",
       "      <td>0</td>\n",
       "    </tr>\n",
       "  </tbody>\n",
       "</table>\n",
       "</div>"
      ],
      "text/plain": [
       "   movieId    year  ave_rating  Adventure  Animation  Children  Comedy  Fantasy  Romance  Drama  Action  Crime  Thriller  Horror  Mystery  Sci-Fi  Documentary\n",
       "0     3273  2000.0         2.7          0          0         0       1        0        0      0       0      0         1       1        1       0            0\n",
       "1     3275  2000.0         4.2          0          0         0       0        0        0      1       1      1         1       0        0       0            0\n",
       "2     3285  2000.0         3.1          1          0         0       0        0        0      1       0      0         0       0        0       0            0\n",
       "3     3298  2000.0         3.7          0          0         0       0        0        0      1       0      1         1       0        0       0            0\n",
       "4     3300  2000.0         3.6          0          0         0       0        0        0      0       0      0         1       1        0       1            0"
      ]
     },
     "execution_count": 150,
     "metadata": {},
     "output_type": "execute_result"
    }
   ],
   "source": [
    "item_train.sort_values(by = [\"movieId\"], ascending = True).head()"
   ]
  },
  {
   "cell_type": "code",
   "execution_count": 114,
   "id": "826d2f18",
   "metadata": {},
   "outputs": [],
   "source": [
    "item_train.drop_duplicates(inplace = True)"
   ]
  },
  {
   "cell_type": "code",
   "execution_count": 115,
   "id": "d7468474",
   "metadata": {},
   "outputs": [],
   "source": [
    "item_train = item_train.to_numpy()"
   ]
  },
  {
   "cell_type": "markdown",
   "id": "55d453be",
   "metadata": {},
   "source": [
    "### duplicate user vector to match it's size to item_train as we are going to feed these into our NN model as inputs (item_train, user_vecs)"
   ]
  },
  {
   "cell_type": "code",
   "execution_count": 116,
   "id": "a09debce",
   "metadata": {},
   "outputs": [],
   "source": [
    "user_vecs = pd.DataFrame(user_vec, columns = user_train_columns).sample(item_train.shape[0], replace = True, random_state = 1)"
   ]
  },
  {
   "cell_type": "code",
   "execution_count": 117,
   "id": "80a7c946",
   "metadata": {},
   "outputs": [
    {
     "data": {
      "text/plain": [
       "(482, 17)"
      ]
     },
     "execution_count": 117,
     "metadata": {},
     "output_type": "execute_result"
    }
   ],
   "source": [
    "user_vecs.shape"
   ]
  },
  {
   "cell_type": "code",
   "execution_count": 118,
   "id": "f64357ac",
   "metadata": {},
   "outputs": [],
   "source": [
    "user_vecs = user_vecs.to_numpy()"
   ]
  },
  {
   "cell_type": "code",
   "execution_count": 119,
   "id": "d361edff",
   "metadata": {},
   "outputs": [],
   "source": [
    "item_vecs = item_train"
   ]
  },
  {
   "cell_type": "code",
   "execution_count": 120,
   "id": "983f7369",
   "metadata": {},
   "outputs": [],
   "source": [
    "suser_vecs = scalerUser.transform(user_vecs[:, u_s:])\n",
    "sitem_vecs = scalerItem.transform(item_vecs[:, i_s:])"
   ]
  },
  {
   "cell_type": "code",
   "execution_count": 121,
   "id": "8c216b12",
   "metadata": {},
   "outputs": [
    {
     "name": "stdout",
     "output_type": "stream",
     "text": [
      "16/16 [==============================] - 0s 2ms/step\n"
     ]
    }
   ],
   "source": [
    "y_p = model.predict([suser_vecs, sitem_vecs])\n",
    "y_pu = scalerTarget.inverse_transform(y_p)\n",
    "sorted_index = np.argsort(-y_pu,axis=0).reshape(-1).tolist()  #negate to get largest rating first, argsotf orders ascanding (returns the indexes).\n",
    "sorted_ypu   = y_pu[sorted_index]\n",
    "sorted_items = item_vecs[sorted_index]  #using unscaled vectors for display"
   ]
  },
  {
   "cell_type": "code",
   "execution_count": 122,
   "id": "e41a318e",
   "metadata": {},
   "outputs": [
    {
     "data": {
      "text/html": [
       "<div>\n",
       "<style scoped>\n",
       "    .dataframe tbody tr th:only-of-type {\n",
       "        vertical-align: middle;\n",
       "    }\n",
       "\n",
       "    .dataframe tbody tr th {\n",
       "        vertical-align: top;\n",
       "    }\n",
       "\n",
       "    .dataframe thead th {\n",
       "        text-align: right;\n",
       "    }\n",
       "</style>\n",
       "<table border=\"1\" class=\"dataframe\">\n",
       "  <thead>\n",
       "    <tr style=\"text-align: right;\">\n",
       "      <th></th>\n",
       "      <th>movieId</th>\n",
       "      <th>ave_rating</th>\n",
       "      <th>preds</th>\n",
       "      <th>title</th>\n",
       "      <th>genres</th>\n",
       "    </tr>\n",
       "  </thead>\n",
       "  <tbody>\n",
       "    <tr>\n",
       "      <th>0</th>\n",
       "      <td>5816.0</td>\n",
       "      <td>3.6</td>\n",
       "      <td>4.428673</td>\n",
       "      <td>Harry Potter and the Chamber of Secrets (2002)</td>\n",
       "      <td>Adventure|Fantasy</td>\n",
       "    </tr>\n",
       "    <tr>\n",
       "      <th>102</th>\n",
       "      <td>106489.0</td>\n",
       "      <td>3.6</td>\n",
       "      <td>4.404529</td>\n",
       "      <td>Hobbit: The Desolation of Smaug, The (2013)</td>\n",
       "      <td>Adventure|Fantasy|IMAX</td>\n",
       "    </tr>\n",
       "    <tr>\n",
       "      <th>127</th>\n",
       "      <td>30810.0</td>\n",
       "      <td>3.5</td>\n",
       "      <td>4.398796</td>\n",
       "      <td>Life Aquatic with Steve Zissou, The (2004)</td>\n",
       "      <td>Adventure|Comedy|Fantasy</td>\n",
       "    </tr>\n",
       "    <tr>\n",
       "      <th>164</th>\n",
       "      <td>7373.0</td>\n",
       "      <td>3.4</td>\n",
       "      <td>4.369652</td>\n",
       "      <td>Hellboy (2004)</td>\n",
       "      <td>Action|Adventure|Fantasy|Horror</td>\n",
       "    </tr>\n",
       "    <tr>\n",
       "      <th>205</th>\n",
       "      <td>98809.0</td>\n",
       "      <td>3.8</td>\n",
       "      <td>4.342022</td>\n",
       "      <td>Hobbit: An Unexpected Journey, The (2012)</td>\n",
       "      <td>Adventure|Fantasy|IMAX</td>\n",
       "    </tr>\n",
       "    <tr>\n",
       "      <th>245</th>\n",
       "      <td>54259.0</td>\n",
       "      <td>3.6</td>\n",
       "      <td>4.260365</td>\n",
       "      <td>Stardust (2007)</td>\n",
       "      <td>Adventure|Comedy|Fantasy|Romance</td>\n",
       "    </tr>\n",
       "    <tr>\n",
       "      <th>279</th>\n",
       "      <td>86880.0</td>\n",
       "      <td>3.2</td>\n",
       "      <td>4.256057</td>\n",
       "      <td>Pirates of the Caribbean: On Stranger Tides (2...</td>\n",
       "      <td>Action|Adventure|Fantasy|IMAX</td>\n",
       "    </tr>\n",
       "    <tr>\n",
       "      <th>303</th>\n",
       "      <td>53125.0</td>\n",
       "      <td>3.4</td>\n",
       "      <td>4.255130</td>\n",
       "      <td>Pirates of the Caribbean: At World's End (2007)</td>\n",
       "      <td>Action|Adventure|Comedy|Fantasy</td>\n",
       "    </tr>\n",
       "    <tr>\n",
       "      <th>359</th>\n",
       "      <td>106072.0</td>\n",
       "      <td>3.3</td>\n",
       "      <td>4.253738</td>\n",
       "      <td>Thor: The Dark World (2013)</td>\n",
       "      <td>Action|Adventure|Fantasy|IMAX</td>\n",
       "    </tr>\n",
       "    <tr>\n",
       "      <th>380</th>\n",
       "      <td>74789.0</td>\n",
       "      <td>2.9</td>\n",
       "      <td>4.243067</td>\n",
       "      <td>Alice in Wonderland (2010)</td>\n",
       "      <td>Adventure|Fantasy|IMAX</td>\n",
       "    </tr>\n",
       "    <tr>\n",
       "      <th>408</th>\n",
       "      <td>45722.0</td>\n",
       "      <td>3.5</td>\n",
       "      <td>4.222374</td>\n",
       "      <td>Pirates of the Caribbean: Dead Man's Chest (2006)</td>\n",
       "      <td>Action|Adventure|Fantasy</td>\n",
       "    </tr>\n",
       "    <tr>\n",
       "      <th>480</th>\n",
       "      <td>8368.0</td>\n",
       "      <td>3.9</td>\n",
       "      <td>4.172833</td>\n",
       "      <td>Harry Potter and the Prisoner of Azkaban (2004)</td>\n",
       "      <td>Adventure|Fantasy|IMAX</td>\n",
       "    </tr>\n",
       "    <tr>\n",
       "      <th>573</th>\n",
       "      <td>6539.0</td>\n",
       "      <td>3.8</td>\n",
       "      <td>4.091205</td>\n",
       "      <td>Pirates of the Caribbean: The Curse of the Bla...</td>\n",
       "      <td>Action|Adventure|Comedy|Fantasy</td>\n",
       "    </tr>\n",
       "    <tr>\n",
       "      <th>722</th>\n",
       "      <td>5313.0</td>\n",
       "      <td>2.3</td>\n",
       "      <td>4.038807</td>\n",
       "      <td>The Scorpion King (2002)</td>\n",
       "      <td>Action|Adventure|Fantasy|Thriller</td>\n",
       "    </tr>\n",
       "    <tr>\n",
       "      <th>744</th>\n",
       "      <td>7454.0</td>\n",
       "      <td>2.7</td>\n",
       "      <td>4.031175</td>\n",
       "      <td>Van Helsing (2004)</td>\n",
       "      <td>Action|Adventure|Fantasy|Horror</td>\n",
       "    </tr>\n",
       "  </tbody>\n",
       "</table>\n",
       "</div>"
      ],
      "text/plain": [
       "      movieId  ave_rating     preds                                              title                             genres\n",
       "0      5816.0         3.6  4.428673     Harry Potter and the Chamber of Secrets (2002)                  Adventure|Fantasy\n",
       "102  106489.0         3.6  4.404529        Hobbit: The Desolation of Smaug, The (2013)             Adventure|Fantasy|IMAX\n",
       "127   30810.0         3.5  4.398796         Life Aquatic with Steve Zissou, The (2004)           Adventure|Comedy|Fantasy\n",
       "164    7373.0         3.4  4.369652                                     Hellboy (2004)    Action|Adventure|Fantasy|Horror\n",
       "205   98809.0         3.8  4.342022          Hobbit: An Unexpected Journey, The (2012)             Adventure|Fantasy|IMAX\n",
       "245   54259.0         3.6  4.260365                                    Stardust (2007)   Adventure|Comedy|Fantasy|Romance\n",
       "279   86880.0         3.2  4.256057  Pirates of the Caribbean: On Stranger Tides (2...      Action|Adventure|Fantasy|IMAX\n",
       "303   53125.0         3.4  4.255130    Pirates of the Caribbean: At World's End (2007)    Action|Adventure|Comedy|Fantasy\n",
       "359  106072.0         3.3  4.253738                        Thor: The Dark World (2013)      Action|Adventure|Fantasy|IMAX\n",
       "380   74789.0         2.9  4.243067                         Alice in Wonderland (2010)             Adventure|Fantasy|IMAX\n",
       "408   45722.0         3.5  4.222374  Pirates of the Caribbean: Dead Man's Chest (2006)           Action|Adventure|Fantasy\n",
       "480    8368.0         3.9  4.172833    Harry Potter and the Prisoner of Azkaban (2004)             Adventure|Fantasy|IMAX\n",
       "573    6539.0         3.8  4.091205  Pirates of the Caribbean: The Curse of the Bla...    Action|Adventure|Comedy|Fantasy\n",
       "722    5313.0         2.3  4.038807                           The Scorpion King (2002)  Action|Adventure|Fantasy|Thriller\n",
       "744    7454.0         2.7  4.031175                                 Van Helsing (2004)    Action|Adventure|Fantasy|Horror"
      ]
     },
     "execution_count": 122,
     "metadata": {},
     "output_type": "execute_result"
    }
   ],
   "source": [
    "pd_pred_df = pd.DataFrame(sorted_items, columns = item_train_columns)\n",
    "pd_pred_df[\"preds\"] = sorted_ypu\n",
    "pd_pred_df = pd_pred_df.merge(df.loc[:, [\"movieId\",\"title\",\"genres\"]], on = \"movieId\", how = \"inner\")\n",
    "pd_pred_df = pd_pred_df[[\"movieId\",\"ave_rating\",\"preds\",\"title\",\"genres\"]]\n",
    "pd_pred_df = pd_pred_df.drop_duplicates()\n",
    "pd_pred_df_new = pd_pred_df.copy()\n",
    "pd_pred_df_new.head(15)"
   ]
  },
  {
   "cell_type": "markdown",
   "id": "f9c246be",
   "metadata": {},
   "source": [
    "# Prediction for an Existing User"
   ]
  },
  {
   "cell_type": "code",
   "execution_count": 123,
   "id": "a6eb936a",
   "metadata": {},
   "outputs": [],
   "source": [
    "user_train = duplicated_user_train.copy()\n",
    "item_train = duplicated_item_train.copy()"
   ]
  },
  {
   "cell_type": "code",
   "execution_count": 124,
   "id": "b58cdea3",
   "metadata": {},
   "outputs": [
    {
     "data": {
      "text/html": [
       "<div>\n",
       "<style scoped>\n",
       "    .dataframe tbody tr th:only-of-type {\n",
       "        vertical-align: middle;\n",
       "    }\n",
       "\n",
       "    .dataframe tbody tr th {\n",
       "        vertical-align: top;\n",
       "    }\n",
       "\n",
       "    .dataframe thead th {\n",
       "        text-align: right;\n",
       "    }\n",
       "</style>\n",
       "<table border=\"1\" class=\"dataframe\">\n",
       "  <thead>\n",
       "    <tr style=\"text-align: right;\">\n",
       "      <th></th>\n",
       "      <th>userId</th>\n",
       "      <th>movie_count</th>\n",
       "      <th>rating_ave</th>\n",
       "      <th>Adventure</th>\n",
       "      <th>Animation</th>\n",
       "      <th>Children</th>\n",
       "      <th>Comedy</th>\n",
       "      <th>Fantasy</th>\n",
       "      <th>Romance</th>\n",
       "      <th>Drama</th>\n",
       "      <th>Action</th>\n",
       "      <th>Crime</th>\n",
       "      <th>Thriller</th>\n",
       "      <th>Horror</th>\n",
       "      <th>Mystery</th>\n",
       "      <th>Sci-Fi</th>\n",
       "      <th>Documentary</th>\n",
       "    </tr>\n",
       "  </thead>\n",
       "  <tbody>\n",
       "    <tr>\n",
       "      <th>1</th>\n",
       "      <td>2</td>\n",
       "      <td>20</td>\n",
       "      <td>4.0</td>\n",
       "      <td>4.2</td>\n",
       "      <td>0.0</td>\n",
       "      <td>0.0</td>\n",
       "      <td>4.2</td>\n",
       "      <td>0.0</td>\n",
       "      <td>0.0</td>\n",
       "      <td>4.0</td>\n",
       "      <td>4.0</td>\n",
       "      <td>4.1</td>\n",
       "      <td>3.9</td>\n",
       "      <td>3.0</td>\n",
       "      <td>4.0</td>\n",
       "      <td>3.9</td>\n",
       "      <td>0.0</td>\n",
       "    </tr>\n",
       "  </tbody>\n",
       "</table>\n",
       "</div>"
      ],
      "text/plain": [
       "   userId  movie_count  rating_ave  Adventure  Animation  Children  Comedy  Fantasy  Romance  Drama  Action  Crime  Thriller  Horror  Mystery  Sci-Fi  Documentary\n",
       "1       2           20         4.0        4.2        0.0       0.0     4.2      0.0      0.0    4.0     4.0    4.1       3.9     3.0      4.0     3.9          0.0"
      ]
     },
     "execution_count": 124,
     "metadata": {},
     "output_type": "execute_result"
    }
   ],
   "source": [
    "user_train.loc[user_train.userId == 2].head(1)"
   ]
  },
  {
   "cell_type": "code",
   "execution_count": 125,
   "id": "12653c7b",
   "metadata": {},
   "outputs": [],
   "source": [
    "item_train.sort_values(by = \"movieId\", ascending = True, inplace = True)\n",
    "item_train.drop_duplicates(inplace = True)"
   ]
  },
  {
   "cell_type": "code",
   "execution_count": 126,
   "id": "9881119c",
   "metadata": {},
   "outputs": [],
   "source": [
    "user_info = user_train.loc[user_train.userId == 2].head(1)"
   ]
  },
  {
   "cell_type": "markdown",
   "id": "666e19d4",
   "metadata": {},
   "source": [
    "### duplicating"
   ]
  },
  {
   "cell_type": "code",
   "execution_count": 127,
   "id": "65000d59",
   "metadata": {},
   "outputs": [],
   "source": [
    "user_info_df = user_info.sample(item_train.shape[0], replace = True, random_state = 1)"
   ]
  },
  {
   "cell_type": "code",
   "execution_count": 128,
   "id": "a52525c5",
   "metadata": {},
   "outputs": [
    {
     "name": "stdout",
     "output_type": "stream",
     "text": [
      "(482, 17)\n",
      "(482, 17)\n"
     ]
    }
   ],
   "source": [
    "print(user_info_df.shape)\n",
    "print(item_train.shape)"
   ]
  },
  {
   "cell_type": "code",
   "execution_count": 129,
   "id": "3ff9ccf7",
   "metadata": {},
   "outputs": [],
   "source": [
    "user_info_df = user_info_df.to_numpy()\n",
    "item_train = item_train.to_numpy()\n",
    "item_vecs = item_train"
   ]
  },
  {
   "cell_type": "code",
   "execution_count": 130,
   "id": "0f70f4fb",
   "metadata": {},
   "outputs": [],
   "source": [
    "suser_vecs = scalerUser.transform(user_info_df[:, u_s:])\n",
    "sitem_vecs = scalerItem.transform(item_vecs[:, i_s:])"
   ]
  },
  {
   "cell_type": "code",
   "execution_count": 131,
   "id": "20923924",
   "metadata": {},
   "outputs": [
    {
     "name": "stdout",
     "output_type": "stream",
     "text": [
      "16/16 [==============================] - 0s 2ms/step\n"
     ]
    }
   ],
   "source": [
    "y_p = model.predict([suser_vecs, sitem_vecs])\n",
    "y_pu = scalerTarget.inverse_transform(y_p)\n",
    "sorted_index = np.argsort(-y_pu, axis=0).reshape(-1).tolist()  #negate to get largest rating first\n",
    "sorted_ypu   = y_pu[sorted_index]\n",
    "sorted_items = item_vecs[sorted_index]  #using unscaled vectors for display"
   ]
  },
  {
   "cell_type": "code",
   "execution_count": 132,
   "id": "98cf4cce",
   "metadata": {},
   "outputs": [
    {
     "data": {
      "text/html": [
       "<div>\n",
       "<style scoped>\n",
       "    .dataframe tbody tr th:only-of-type {\n",
       "        vertical-align: middle;\n",
       "    }\n",
       "\n",
       "    .dataframe tbody tr th {\n",
       "        vertical-align: top;\n",
       "    }\n",
       "\n",
       "    .dataframe thead th {\n",
       "        text-align: right;\n",
       "    }\n",
       "</style>\n",
       "<table border=\"1\" class=\"dataframe\">\n",
       "  <thead>\n",
       "    <tr style=\"text-align: right;\">\n",
       "      <th></th>\n",
       "      <th>movieId</th>\n",
       "      <th>ave_rating</th>\n",
       "      <th>preds</th>\n",
       "      <th>title</th>\n",
       "      <th>genres</th>\n",
       "    </tr>\n",
       "  </thead>\n",
       "  <tbody>\n",
       "    <tr>\n",
       "      <th>0</th>\n",
       "      <td>34405.0</td>\n",
       "      <td>3.9</td>\n",
       "      <td>4.206367</td>\n",
       "      <td>Serenity (2005)</td>\n",
       "      <td>Action|Adventure|Sci-Fi</td>\n",
       "    </tr>\n",
       "    <tr>\n",
       "      <th>50</th>\n",
       "      <td>68358.0</td>\n",
       "      <td>3.9</td>\n",
       "      <td>4.189864</td>\n",
       "      <td>Star Trek (2009)</td>\n",
       "      <td>Action|Adventure|Sci-Fi|IMAX</td>\n",
       "    </tr>\n",
       "    <tr>\n",
       "      <th>109</th>\n",
       "      <td>8636.0</td>\n",
       "      <td>3.8</td>\n",
       "      <td>4.171078</td>\n",
       "      <td>Spider-Man 2 (2004)</td>\n",
       "      <td>Action|Adventure|Sci-Fi|IMAX</td>\n",
       "    </tr>\n",
       "    <tr>\n",
       "      <th>188</th>\n",
       "      <td>6502.0</td>\n",
       "      <td>4.0</td>\n",
       "      <td>4.159258</td>\n",
       "      <td>28 Days Later (2002)</td>\n",
       "      <td>Action|Horror|Sci-Fi</td>\n",
       "    </tr>\n",
       "    <tr>\n",
       "      <th>246</th>\n",
       "      <td>59315.0</td>\n",
       "      <td>3.8</td>\n",
       "      <td>4.155405</td>\n",
       "      <td>Iron Man (2008)</td>\n",
       "      <td>Action|Adventure|Sci-Fi</td>\n",
       "    </tr>\n",
       "    <tr>\n",
       "      <th>340</th>\n",
       "      <td>112852.0</td>\n",
       "      <td>4.1</td>\n",
       "      <td>4.154729</td>\n",
       "      <td>Guardians of the Galaxy (2014)</td>\n",
       "      <td>Action|Adventure|Sci-Fi</td>\n",
       "    </tr>\n",
       "    <tr>\n",
       "      <th>399</th>\n",
       "      <td>49272.0</td>\n",
       "      <td>3.9</td>\n",
       "      <td>4.132594</td>\n",
       "      <td>Casino Royale (2006)</td>\n",
       "      <td>Action|Adventure|Thriller</td>\n",
       "    </tr>\n",
       "    <tr>\n",
       "      <th>480</th>\n",
       "      <td>89745.0</td>\n",
       "      <td>3.9</td>\n",
       "      <td>4.127208</td>\n",
       "      <td>Avengers, The (2012)</td>\n",
       "      <td>Action|Adventure|Sci-Fi|IMAX</td>\n",
       "    </tr>\n",
       "    <tr>\n",
       "      <th>549</th>\n",
       "      <td>3793.0</td>\n",
       "      <td>3.7</td>\n",
       "      <td>4.111879</td>\n",
       "      <td>X-Men (2000)</td>\n",
       "      <td>Action|Adventure|Sci-Fi</td>\n",
       "    </tr>\n",
       "    <tr>\n",
       "      <th>682</th>\n",
       "      <td>27773.0</td>\n",
       "      <td>4.1</td>\n",
       "      <td>4.088145</td>\n",
       "      <td>Old Boy (2003)</td>\n",
       "      <td>Mystery|Thriller</td>\n",
       "    </tr>\n",
       "    <tr>\n",
       "      <th>721</th>\n",
       "      <td>4226.0</td>\n",
       "      <td>4.1</td>\n",
       "      <td>4.075303</td>\n",
       "      <td>Memento (2000)</td>\n",
       "      <td>Mystery|Thriller</td>\n",
       "    </tr>\n",
       "    <tr>\n",
       "      <th>880</th>\n",
       "      <td>91529.0</td>\n",
       "      <td>4.0</td>\n",
       "      <td>4.070291</td>\n",
       "      <td>Dark Knight Rises, The (2012)</td>\n",
       "      <td>Action|Adventure|Crime|IMAX</td>\n",
       "    </tr>\n",
       "    <tr>\n",
       "      <th>956</th>\n",
       "      <td>111362.0</td>\n",
       "      <td>3.8</td>\n",
       "      <td>4.049105</td>\n",
       "      <td>X-Men: Days of Future Past (2014)</td>\n",
       "      <td>Action|Adventure|Sci-Fi</td>\n",
       "    </tr>\n",
       "    <tr>\n",
       "      <th>986</th>\n",
       "      <td>102445.0</td>\n",
       "      <td>3.7</td>\n",
       "      <td>4.047586</td>\n",
       "      <td>Star Trek Into Darkness (2013)</td>\n",
       "      <td>Action|Adventure|Sci-Fi|IMAX</td>\n",
       "    </tr>\n",
       "    <tr>\n",
       "      <th>1013</th>\n",
       "      <td>82459.0</td>\n",
       "      <td>3.8</td>\n",
       "      <td>4.046739</td>\n",
       "      <td>True Grit (2010)</td>\n",
       "      <td>Western</td>\n",
       "    </tr>\n",
       "  </tbody>\n",
       "</table>\n",
       "</div>"
      ],
      "text/plain": [
       "       movieId  ave_rating     preds                              title                        genres\n",
       "0      34405.0         3.9  4.206367                    Serenity (2005)       Action|Adventure|Sci-Fi\n",
       "50     68358.0         3.9  4.189864                   Star Trek (2009)  Action|Adventure|Sci-Fi|IMAX\n",
       "109     8636.0         3.8  4.171078                Spider-Man 2 (2004)  Action|Adventure|Sci-Fi|IMAX\n",
       "188     6502.0         4.0  4.159258               28 Days Later (2002)          Action|Horror|Sci-Fi\n",
       "246    59315.0         3.8  4.155405                    Iron Man (2008)       Action|Adventure|Sci-Fi\n",
       "340   112852.0         4.1  4.154729     Guardians of the Galaxy (2014)       Action|Adventure|Sci-Fi\n",
       "399    49272.0         3.9  4.132594               Casino Royale (2006)     Action|Adventure|Thriller\n",
       "480    89745.0         3.9  4.127208               Avengers, The (2012)  Action|Adventure|Sci-Fi|IMAX\n",
       "549     3793.0         3.7  4.111879                       X-Men (2000)       Action|Adventure|Sci-Fi\n",
       "682    27773.0         4.1  4.088145                     Old Boy (2003)              Mystery|Thriller\n",
       "721     4226.0         4.1  4.075303                     Memento (2000)              Mystery|Thriller\n",
       "880    91529.0         4.0  4.070291      Dark Knight Rises, The (2012)   Action|Adventure|Crime|IMAX\n",
       "956   111362.0         3.8  4.049105  X-Men: Days of Future Past (2014)       Action|Adventure|Sci-Fi\n",
       "986   102445.0         3.7  4.047586     Star Trek Into Darkness (2013)  Action|Adventure|Sci-Fi|IMAX\n",
       "1013   82459.0         3.8  4.046739                   True Grit (2010)                       Western"
      ]
     },
     "execution_count": 132,
     "metadata": {},
     "output_type": "execute_result"
    }
   ],
   "source": [
    "pd_pred_df = pd.DataFrame(sorted_items, columns = item_train_columns)\n",
    "pd_pred_df[\"preds\"] = sorted_ypu\n",
    "pd_pred_df.loc[:,[\"movieId\",\"year\",\"ave_rating\",\"preds\"]]\n",
    "pd_pred_df = pd_pred_df.merge(df.loc[:, [\"movieId\",\"title\",\"genres\"]], on = \"movieId\", how = \"inner\")\n",
    "pd_pred_df = pd_pred_df[[\"movieId\",\"ave_rating\",\"preds\",\"title\",\"genres\"]]\n",
    "pd_pred_df = pd_pred_df.drop_duplicates()\n",
    "pd_pred_df.head(15)"
   ]
  },
  {
   "cell_type": "code",
   "execution_count": 133,
   "id": "c7de2f63",
   "metadata": {},
   "outputs": [
    {
     "data": {
      "text/html": [
       "<div>\n",
       "<style scoped>\n",
       "    .dataframe tbody tr th:only-of-type {\n",
       "        vertical-align: middle;\n",
       "    }\n",
       "\n",
       "    .dataframe tbody tr th {\n",
       "        vertical-align: top;\n",
       "    }\n",
       "\n",
       "    .dataframe thead th {\n",
       "        text-align: right;\n",
       "    }\n",
       "</style>\n",
       "<table border=\"1\" class=\"dataframe\">\n",
       "  <thead>\n",
       "    <tr style=\"text-align: right;\">\n",
       "      <th></th>\n",
       "      <th>userId</th>\n",
       "      <th>movie_count</th>\n",
       "      <th>rating_ave</th>\n",
       "      <th>Adventure</th>\n",
       "      <th>Animation</th>\n",
       "      <th>Children</th>\n",
       "      <th>Comedy</th>\n",
       "      <th>Fantasy</th>\n",
       "      <th>Romance</th>\n",
       "      <th>Drama</th>\n",
       "      <th>Action</th>\n",
       "      <th>Crime</th>\n",
       "      <th>Thriller</th>\n",
       "      <th>Horror</th>\n",
       "      <th>Mystery</th>\n",
       "      <th>Sci-Fi</th>\n",
       "      <th>Documentary</th>\n",
       "    </tr>\n",
       "  </thead>\n",
       "  <tbody>\n",
       "    <tr>\n",
       "      <th>1</th>\n",
       "      <td>2</td>\n",
       "      <td>20</td>\n",
       "      <td>4.0</td>\n",
       "      <td>4.2</td>\n",
       "      <td>0.0</td>\n",
       "      <td>0.0</td>\n",
       "      <td>4.2</td>\n",
       "      <td>0.0</td>\n",
       "      <td>0.0</td>\n",
       "      <td>4.0</td>\n",
       "      <td>4.0</td>\n",
       "      <td>4.1</td>\n",
       "      <td>3.9</td>\n",
       "      <td>3.0</td>\n",
       "      <td>4.0</td>\n",
       "      <td>3.9</td>\n",
       "      <td>0.0</td>\n",
       "    </tr>\n",
       "  </tbody>\n",
       "</table>\n",
       "</div>"
      ],
      "text/plain": [
       "   userId  movie_count  rating_ave  Adventure  Animation  Children  Comedy  Fantasy  Romance  Drama  Action  Crime  Thriller  Horror  Mystery  Sci-Fi  Documentary\n",
       "1       2           20         4.0        4.2        0.0       0.0     4.2      0.0      0.0    4.0     4.0    4.1       3.9     3.0      4.0     3.9          0.0"
      ]
     },
     "execution_count": 133,
     "metadata": {},
     "output_type": "execute_result"
    }
   ],
   "source": [
    "user_train.loc[user_train.userId == 2].head(1)"
   ]
  },
  {
   "cell_type": "code",
   "execution_count": 134,
   "id": "f3789237",
   "metadata": {},
   "outputs": [],
   "source": [
    "#adventure, comedy, drama, action, crime, thriller, horror, mystery, sci fi"
   ]
  },
  {
   "cell_type": "markdown",
   "id": "f92496fa",
   "metadata": {},
   "source": [
    "# finding similar movies"
   ]
  },
  {
   "cell_type": "code",
   "execution_count": 135,
   "id": "b9679913",
   "metadata": {},
   "outputs": [],
   "source": [
    "def sq_dist(a,b):\n",
    "    \"\"\"\n",
    "    Returns the squared distance between two vectors\n",
    "    Args:\n",
    "      a (ndarray (n,)): vector with n features\n",
    "      b (ndarray (n,)): vector with n features\n",
    "    Returns:\n",
    "      d (float) : distance\n",
    "    \"\"\"   \n",
    "    a = np.array(a)\n",
    "    b = np.array(b)\n",
    "    \n",
    "    d = np.sum((np.subtract(a,b))**2)\n",
    "    \n",
    "    return d"
   ]
  },
  {
   "cell_type": "code",
   "execution_count": 136,
   "id": "bd1836eb",
   "metadata": {},
   "outputs": [
    {
     "name": "stdout",
     "output_type": "stream",
     "text": [
      "Model: \"model_1\"\n",
      "_________________________________________________________________\n",
      " Layer (type)                Output Shape              Param #   \n",
      "=================================================================\n",
      " input_3 (InputLayer)        [(None, 16)]              0         \n",
      "                                                                 \n",
      " sequential_1 (Sequential)   (None, 32)                41376     \n",
      "                                                                 \n",
      " tf.math.l2_normalize_2 (TFO  (None, 32)               0         \n",
      " pLambda)                                                        \n",
      "                                                                 \n",
      "=================================================================\n",
      "Total params: 41,376\n",
      "Trainable params: 41,376\n",
      "Non-trainable params: 0\n",
      "_________________________________________________________________\n"
     ]
    }
   ],
   "source": [
    "input_item_m = tf.keras.layers.Input(shape=(num_item_features))    # input layer\n",
    "vm_m = item_NN(input_item_m)                                       # use the trained item_NN\n",
    "vm_m = tf.linalg.l2_normalize(vm_m, axis=1)                        # incorporate normalization as was done in the original model\n",
    "model_m = tf.keras.Model(input_item_m, vm_m)                                \n",
    "model_m.summary()"
   ]
  },
  {
   "cell_type": "code",
   "execution_count": 137,
   "id": "822913e6",
   "metadata": {},
   "outputs": [],
   "source": [
    "item_train = duplicated_item_train.copy()\n",
    "item_train.sort_values(by = \"movieId\", ascending = True, inplace = True)\n",
    "item_train.drop_duplicates(inplace = True)\n",
    "item_vecs = item_train"
   ]
  },
  {
   "cell_type": "code",
   "execution_count": 138,
   "id": "1e4bd9af",
   "metadata": {},
   "outputs": [
    {
     "name": "stdout",
     "output_type": "stream",
     "text": [
      "16/16 [==============================] - 0s 2ms/step\n"
     ]
    },
    {
     "name": "stderr",
     "output_type": "stream",
     "text": [
      "C:\\Users\\Cagan Deliktas\\anaconda3\\envs\\tensorFlowEnvv\\lib\\site-packages\\sklearn\\base.py:432: UserWarning: X has feature names, but StandardScaler was fitted without feature names\n",
      "  warnings.warn(\n"
     ]
    },
    {
     "name": "stdout",
     "output_type": "stream",
     "text": [
      "size of all predicted movie feature vectors: (482, 32)\n"
     ]
    }
   ],
   "source": [
    "scaled_item_vecs = scalerItem.transform(item_vecs.iloc[:, i_s:])\n",
    "vms = model_m.predict(scaled_item_vecs)\n",
    "print(f\"size of all predicted movie feature vectors: {vms.shape}\")"
   ]
  },
  {
   "cell_type": "code",
   "execution_count": 139,
   "id": "b3f2fb91",
   "metadata": {},
   "outputs": [
    {
     "data": {
      "text/plain": [
       "(482, 32)"
      ]
     },
     "execution_count": 139,
     "metadata": {},
     "output_type": "execute_result"
    }
   ],
   "source": [
    "vms.shape"
   ]
  },
  {
   "cell_type": "markdown",
   "id": "27a2603a",
   "metadata": {},
   "source": [
    "### select a movie"
   ]
  },
  {
   "cell_type": "code",
   "execution_count": 140,
   "id": "ec2e9a69",
   "metadata": {},
   "outputs": [],
   "source": [
    "movie_choice = 54503"
   ]
  },
  {
   "cell_type": "code",
   "execution_count": 141,
   "id": "4767b70f",
   "metadata": {},
   "outputs": [
    {
     "data": {
      "text/html": [
       "<div>\n",
       "<style scoped>\n",
       "    .dataframe tbody tr th:only-of-type {\n",
       "        vertical-align: middle;\n",
       "    }\n",
       "\n",
       "    .dataframe tbody tr th {\n",
       "        vertical-align: top;\n",
       "    }\n",
       "\n",
       "    .dataframe thead th {\n",
       "        text-align: right;\n",
       "    }\n",
       "</style>\n",
       "<table border=\"1\" class=\"dataframe\">\n",
       "  <thead>\n",
       "    <tr style=\"text-align: right;\">\n",
       "      <th></th>\n",
       "      <th>movieId</th>\n",
       "      <th>title</th>\n",
       "      <th>genres</th>\n",
       "      <th>year</th>\n",
       "    </tr>\n",
       "  </thead>\n",
       "  <tbody>\n",
       "    <tr>\n",
       "      <th>6535</th>\n",
       "      <td>54503</td>\n",
       "      <td>Superbad (2007)</td>\n",
       "      <td>Comedy</td>\n",
       "      <td>2007</td>\n",
       "    </tr>\n",
       "  </tbody>\n",
       "</table>\n",
       "</div>"
      ],
      "text/plain": [
       "      movieId            title  genres  year\n",
       "6535    54503  Superbad (2007)  Comedy  2007"
      ]
     },
     "execution_count": 141,
     "metadata": {},
     "output_type": "execute_result"
    }
   ],
   "source": [
    "movie.loc[movie[\"movieId\"] == movie_choice, :]"
   ]
  },
  {
   "cell_type": "markdown",
   "id": "d4bdfe25",
   "metadata": {},
   "source": [
    "### first for loop creates an distance matrix (482*482). values represent the similarities between movies. small values mean movies are similar. \n",
    "\n",
    "### second loop creates a dictionary that stores most similar movies for each movie in a list. keys are the movies' indexes."
   ]
  },
  {
   "cell_type": "code",
   "execution_count": 142,
   "id": "1c338e5f",
   "metadata": {},
   "outputs": [],
   "source": [
    "distance_matrix = np.zeros(482*482).reshape(482,482)\n",
    "\n",
    "for i in range(vms.shape[0]):\n",
    "    for j in range(vms.shape[0]):\n",
    "        distance_matrix[i,j] = sq_dist(vms[i],vms[j])\n",
    "        \n",
    "np.fill_diagonal(distance_matrix, 999)\n",
    "\n",
    "distance_dict = {}\n",
    "for i in range(distance_matrix.shape[0]):\n",
    "    distance_dict[i] = np.argsort(distance_matrix[i], axis=0).reshape(-1).tolist()\n",
    "    \n",
    "    \n",
    "item_train = duplicated_item_train.copy()\n",
    "item_train.sort_values(by = \"movieId\", ascending = True, inplace = True)\n",
    "item_train.drop_duplicates(inplace = True)"
   ]
  },
  {
   "cell_type": "code",
   "execution_count": 143,
   "id": "ffb899f5",
   "metadata": {},
   "outputs": [
    {
     "data": {
      "text/html": [
       "<div>\n",
       "<style scoped>\n",
       "    .dataframe tbody tr th:only-of-type {\n",
       "        vertical-align: middle;\n",
       "    }\n",
       "\n",
       "    .dataframe tbody tr th {\n",
       "        vertical-align: top;\n",
       "    }\n",
       "\n",
       "    .dataframe thead th {\n",
       "        text-align: right;\n",
       "    }\n",
       "</style>\n",
       "<table border=\"1\" class=\"dataframe\">\n",
       "  <thead>\n",
       "    <tr style=\"text-align: right;\">\n",
       "      <th></th>\n",
       "      <th>index</th>\n",
       "      <th>movieId</th>\n",
       "    </tr>\n",
       "  </thead>\n",
       "  <tbody>\n",
       "    <tr>\n",
       "      <th>0</th>\n",
       "      <td>0</td>\n",
       "      <td>3273</td>\n",
       "    </tr>\n",
       "    <tr>\n",
       "      <th>1</th>\n",
       "      <td>1</td>\n",
       "      <td>3275</td>\n",
       "    </tr>\n",
       "    <tr>\n",
       "      <th>2</th>\n",
       "      <td>2</td>\n",
       "      <td>3285</td>\n",
       "    </tr>\n",
       "    <tr>\n",
       "      <th>3</th>\n",
       "      <td>3</td>\n",
       "      <td>3298</td>\n",
       "    </tr>\n",
       "    <tr>\n",
       "      <th>4</th>\n",
       "      <td>4</td>\n",
       "      <td>3300</td>\n",
       "    </tr>\n",
       "  </tbody>\n",
       "</table>\n",
       "</div>"
      ],
      "text/plain": [
       "   index  movieId\n",
       "0      0     3273\n",
       "1      1     3275\n",
       "2      2     3285\n",
       "3      3     3298\n",
       "4      4     3300"
      ]
     },
     "execution_count": 143,
     "metadata": {},
     "output_type": "execute_result"
    }
   ],
   "source": [
    "movie_id_index_df = pd.DataFrame(item_train.movieId).reset_index()\n",
    "movie_id_index_df.head()"
   ]
  },
  {
   "cell_type": "markdown",
   "id": "b823d727",
   "metadata": {},
   "source": [
    "### select the target movie's index"
   ]
  },
  {
   "cell_type": "code",
   "execution_count": 144,
   "id": "a7f0164c",
   "metadata": {},
   "outputs": [],
   "source": [
    "indexx = movie_id_index_df.loc[movie_id_index_df[\"movieId\"] == movie_choice, \"index\"].values[0]"
   ]
  },
  {
   "cell_type": "code",
   "execution_count": 145,
   "id": "09bb5319",
   "metadata": {},
   "outputs": [],
   "source": [
    "similar_df = movie_id_index_df.merge(movie, how=\"inner\", on=\"movieId\").loc[:,[\"index\",\"movieId\",\"title\",\"genres\"]]"
   ]
  },
  {
   "cell_type": "code",
   "execution_count": 146,
   "id": "cdc8ee49",
   "metadata": {},
   "outputs": [
    {
     "data": {
      "text/html": [
       "<div>\n",
       "<style scoped>\n",
       "    .dataframe tbody tr th:only-of-type {\n",
       "        vertical-align: middle;\n",
       "    }\n",
       "\n",
       "    .dataframe tbody tr th {\n",
       "        vertical-align: top;\n",
       "    }\n",
       "\n",
       "    .dataframe thead th {\n",
       "        text-align: right;\n",
       "    }\n",
       "</style>\n",
       "<table border=\"1\" class=\"dataframe\">\n",
       "  <thead>\n",
       "    <tr style=\"text-align: right;\">\n",
       "      <th></th>\n",
       "      <th>index</th>\n",
       "      <th>title</th>\n",
       "    </tr>\n",
       "  </thead>\n",
       "  <tbody>\n",
       "    <tr>\n",
       "      <th>321</th>\n",
       "      <td>321</td>\n",
       "      <td>Superbad (2007)</td>\n",
       "    </tr>\n",
       "  </tbody>\n",
       "</table>\n",
       "</div>"
      ],
      "text/plain": [
       "     index            title\n",
       "321    321  Superbad (2007)"
      ]
     },
     "execution_count": 146,
     "metadata": {},
     "output_type": "execute_result"
    }
   ],
   "source": [
    "similar_df.loc[similar_df[\"movieId\"] == movie_choice , [\"index\",\"title\"]]"
   ]
  },
  {
   "cell_type": "code",
   "execution_count": 147,
   "id": "bd268a40",
   "metadata": {},
   "outputs": [
    {
     "data": {
      "text/plain": [
       "array([321], dtype=int64)"
      ]
     },
     "execution_count": 147,
     "metadata": {},
     "output_type": "execute_result"
    }
   ],
   "source": [
    "similar_df.loc[similar_df[\"movieId\"] == movie_choice , [\"index\"]].values[0]"
   ]
  },
  {
   "cell_type": "code",
   "execution_count": 148,
   "id": "866e67ce",
   "metadata": {},
   "outputs": [],
   "source": [
    "similar_df.loc[similar_df[\"movieId\"] == movie_choice , [\"index\"]]\n",
    "\n",
    "distance_list = []\n",
    "for i in range(similar_df.shape[0]):\n",
    "    distan = distance_matrix[similar_df.loc[similar_df[\"movieId\"] == movie_choice , [\"index\"]].values[0], similar_df.loc[i, [\"index\"]].values[0]]\n",
    "    distance_list.append(distan)\n",
    "    \n",
    "similar_df[\"distances\"] = distance_list"
   ]
  },
  {
   "cell_type": "code",
   "execution_count": 149,
   "id": "f7bba36e",
   "metadata": {},
   "outputs": [
    {
     "data": {
      "text/html": [
       "<div>\n",
       "<style scoped>\n",
       "    .dataframe tbody tr th:only-of-type {\n",
       "        vertical-align: middle;\n",
       "    }\n",
       "\n",
       "    .dataframe tbody tr th {\n",
       "        vertical-align: top;\n",
       "    }\n",
       "\n",
       "    .dataframe thead th {\n",
       "        text-align: right;\n",
       "    }\n",
       "</style>\n",
       "<table border=\"1\" class=\"dataframe\">\n",
       "  <thead>\n",
       "    <tr style=\"text-align: right;\">\n",
       "      <th></th>\n",
       "      <th>index</th>\n",
       "      <th>movieId</th>\n",
       "      <th>title</th>\n",
       "      <th>genres</th>\n",
       "      <th>distances</th>\n",
       "    </tr>\n",
       "  </thead>\n",
       "  <tbody>\n",
       "    <tr>\n",
       "      <th>400</th>\n",
       "      <td>400</td>\n",
       "      <td>86833</td>\n",
       "      <td>Bridesmaids (2011)</td>\n",
       "      <td>Comedy</td>\n",
       "      <td>[0.02654464915394783]</td>\n",
       "    </tr>\n",
       "    <tr>\n",
       "      <th>213</th>\n",
       "      <td>213</td>\n",
       "      <td>8641</td>\n",
       "      <td>Anchorman: The Legend of Ron Burgundy (2004)</td>\n",
       "      <td>Comedy</td>\n",
       "      <td>[0.026757577434182167]</td>\n",
       "    </tr>\n",
       "    <tr>\n",
       "      <th>199</th>\n",
       "      <td>199</td>\n",
       "      <td>7451</td>\n",
       "      <td>Mean Girls (2004)</td>\n",
       "      <td>Comedy</td>\n",
       "      <td>[0.026757579296827316]</td>\n",
       "    </tr>\n",
       "    <tr>\n",
       "      <th>221</th>\n",
       "      <td>221</td>\n",
       "      <td>8874</td>\n",
       "      <td>Shaun of the Dead (2004)</td>\n",
       "      <td>Comedy|Horror</td>\n",
       "      <td>[0.03303453326225281]</td>\n",
       "    </tr>\n",
       "    <tr>\n",
       "      <th>336</th>\n",
       "      <td>336</td>\n",
       "      <td>58998</td>\n",
       "      <td>Forgetting Sarah Marshall (2008)</td>\n",
       "      <td>Comedy|Romance</td>\n",
       "      <td>[0.04575501009821892]</td>\n",
       "    </tr>\n",
       "    <tr>\n",
       "      <th>475</th>\n",
       "      <td>475</td>\n",
       "      <td>134853</td>\n",
       "      <td>Inside Out (2015)</td>\n",
       "      <td>Adventure|Animation|Children|Comedy|Drama|Fantasy</td>\n",
       "      <td>[0.0522664412856102]</td>\n",
       "    </tr>\n",
       "    <tr>\n",
       "      <th>389</th>\n",
       "      <td>389</td>\n",
       "      <td>80549</td>\n",
       "      <td>Easy A (2010)</td>\n",
       "      <td>Comedy|Romance</td>\n",
       "      <td>[0.05558941513299942]</td>\n",
       "    </tr>\n",
       "    <tr>\n",
       "      <th>421</th>\n",
       "      <td>421</td>\n",
       "      <td>93840</td>\n",
       "      <td>Cabin in the Woods, The (2012)</td>\n",
       "      <td>Comedy|Horror|Sci-Fi|Thriller</td>\n",
       "      <td>[0.05697830766439438]</td>\n",
       "    </tr>\n",
       "    <tr>\n",
       "      <th>371</th>\n",
       "      <td>371</td>\n",
       "      <td>71535</td>\n",
       "      <td>Zombieland (2009)</td>\n",
       "      <td>Action|Comedy|Horror</td>\n",
       "      <td>[0.06700518727302551]</td>\n",
       "    </tr>\n",
       "    <tr>\n",
       "      <th>290</th>\n",
       "      <td>290</td>\n",
       "      <td>46976</td>\n",
       "      <td>Stranger than Fiction (2006)</td>\n",
       "      <td>Comedy|Drama|Fantasy|Romance</td>\n",
       "      <td>[0.06812727451324463]</td>\n",
       "    </tr>\n",
       "  </tbody>\n",
       "</table>\n",
       "</div>"
      ],
      "text/plain": [
       "     index  movieId                                         title                                             genres               distances\n",
       "400    400    86833                            Bridesmaids (2011)                                             Comedy   [0.02654464915394783]\n",
       "213    213     8641  Anchorman: The Legend of Ron Burgundy (2004)                                             Comedy  [0.026757577434182167]\n",
       "199    199     7451                             Mean Girls (2004)                                             Comedy  [0.026757579296827316]\n",
       "221    221     8874                      Shaun of the Dead (2004)                                      Comedy|Horror   [0.03303453326225281]\n",
       "336    336    58998              Forgetting Sarah Marshall (2008)                                     Comedy|Romance   [0.04575501009821892]\n",
       "475    475   134853                             Inside Out (2015)  Adventure|Animation|Children|Comedy|Drama|Fantasy    [0.0522664412856102]\n",
       "389    389    80549                                 Easy A (2010)                                     Comedy|Romance   [0.05558941513299942]\n",
       "421    421    93840                Cabin in the Woods, The (2012)                      Comedy|Horror|Sci-Fi|Thriller   [0.05697830766439438]\n",
       "371    371    71535                             Zombieland (2009)                               Action|Comedy|Horror   [0.06700518727302551]\n",
       "290    290    46976                  Stranger than Fiction (2006)                       Comedy|Drama|Fantasy|Romance   [0.06812727451324463]"
      ]
     },
     "execution_count": 149,
     "metadata": {},
     "output_type": "execute_result"
    }
   ],
   "source": [
    "similar_df.iloc[distance_dict[indexx]].head(10)"
   ]
  },
  {
   "cell_type": "code",
   "execution_count": 206,
   "id": "e95f97c6",
   "metadata": {},
   "outputs": [],
   "source": [
    "#similar_df.iloc[distance_dict[indexx]].iloc[[similar_df.iloc[distance_dict[indexx]].shape[0]-1]]"
   ]
  },
  {
   "cell_type": "code",
   "execution_count": null,
   "id": "7dc2c81b",
   "metadata": {},
   "outputs": [],
   "source": []
  }
 ],
 "metadata": {
  "kernelspec": {
   "display_name": "Python 3 (ipykernel)",
   "language": "python",
   "name": "python3"
  },
  "language_info": {
   "codemirror_mode": {
    "name": "ipython",
    "version": 3
   },
   "file_extension": ".py",
   "mimetype": "text/x-python",
   "name": "python",
   "nbconvert_exporter": "python",
   "pygments_lexer": "ipython3",
   "version": "3.9.7"
  }
 },
 "nbformat": 4,
 "nbformat_minor": 5
}
